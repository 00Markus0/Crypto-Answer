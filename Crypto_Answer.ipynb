{
  "nbformat": 4,
  "nbformat_minor": 0,
  "metadata": {
    "accelerator": "GPU",
    "colab": {
      "name": "Crypto_Answer.ipynb",
      "provenance": [],
      "collapsed_sections": []
    },
    "kernelspec": {
      "display_name": "Python 3",
      "name": "python3"
    },
    "language_info": {
      "name": "python"
    },
    "widgets": {
      "application/vnd.jupyter.widget-state+json": {
        "970bc35b53af437bac99eb33efb9ad15": {
          "model_module": "@jupyter-widgets/controls",
          "model_name": "HBoxModel",
          "model_module_version": "1.5.0",
          "state": {
            "_view_name": "HBoxView",
            "_dom_classes": [],
            "_model_name": "HBoxModel",
            "_view_module": "@jupyter-widgets/controls",
            "_model_module_version": "1.5.0",
            "_view_count": null,
            "_view_module_version": "1.5.0",
            "box_style": "",
            "layout": "IPY_MODEL_fa51bfea0a544dd6b6235b372738c3e5",
            "_model_module": "@jupyter-widgets/controls",
            "children": [
              "IPY_MODEL_ec3aae9e1c164c41964e7cdcc14dd314",
              "IPY_MODEL_fd0110475a664b17b11f05741231bec6",
              "IPY_MODEL_ddc3d589db9147689a238c540957db13"
            ]
          }
        },
        "fa51bfea0a544dd6b6235b372738c3e5": {
          "model_module": "@jupyter-widgets/base",
          "model_name": "LayoutModel",
          "model_module_version": "1.2.0",
          "state": {
            "_view_name": "LayoutView",
            "grid_template_rows": null,
            "right": null,
            "justify_content": null,
            "_view_module": "@jupyter-widgets/base",
            "overflow": null,
            "_model_module_version": "1.2.0",
            "_view_count": null,
            "flex_flow": null,
            "width": null,
            "min_width": null,
            "border": null,
            "align_items": null,
            "bottom": null,
            "_model_module": "@jupyter-widgets/base",
            "top": null,
            "grid_column": null,
            "overflow_y": null,
            "overflow_x": null,
            "grid_auto_flow": null,
            "grid_area": null,
            "grid_template_columns": null,
            "flex": null,
            "_model_name": "LayoutModel",
            "justify_items": null,
            "grid_row": null,
            "max_height": null,
            "align_content": null,
            "visibility": null,
            "align_self": null,
            "height": null,
            "min_height": null,
            "padding": null,
            "grid_auto_rows": null,
            "grid_gap": null,
            "max_width": null,
            "order": null,
            "_view_module_version": "1.2.0",
            "grid_template_areas": null,
            "object_position": null,
            "object_fit": null,
            "grid_auto_columns": null,
            "margin": null,
            "display": null,
            "left": null
          }
        },
        "ec3aae9e1c164c41964e7cdcc14dd314": {
          "model_module": "@jupyter-widgets/controls",
          "model_name": "HTMLModel",
          "model_module_version": "1.5.0",
          "state": {
            "_view_name": "HTMLView",
            "style": "IPY_MODEL_11d11d7331b24889a99287c4b4373164",
            "_dom_classes": [],
            "description": "",
            "_model_name": "HTMLModel",
            "placeholder": "​",
            "_view_module": "@jupyter-widgets/controls",
            "_model_module_version": "1.5.0",
            "value": "Updating embeddings: ",
            "_view_count": null,
            "_view_module_version": "1.5.0",
            "description_tooltip": null,
            "_model_module": "@jupyter-widgets/controls",
            "layout": "IPY_MODEL_622533d3b0f3443e930cfd6be233a0e7"
          }
        },
        "fd0110475a664b17b11f05741231bec6": {
          "model_module": "@jupyter-widgets/controls",
          "model_name": "FloatProgressModel",
          "model_module_version": "1.5.0",
          "state": {
            "_view_name": "ProgressView",
            "style": "IPY_MODEL_71a12a232f29489d82fdeefc838b6582",
            "_dom_classes": [],
            "description": "",
            "_model_name": "FloatProgressModel",
            "bar_style": "success",
            "max": 813,
            "_view_module": "@jupyter-widgets/controls",
            "_model_module_version": "1.5.0",
            "value": 813,
            "_view_count": null,
            "_view_module_version": "1.5.0",
            "orientation": "horizontal",
            "min": 0,
            "description_tooltip": null,
            "_model_module": "@jupyter-widgets/controls",
            "layout": "IPY_MODEL_94e6375dab434184b6fa04fc8767ba76"
          }
        },
        "ddc3d589db9147689a238c540957db13": {
          "model_module": "@jupyter-widgets/controls",
          "model_name": "HTMLModel",
          "model_module_version": "1.5.0",
          "state": {
            "_view_name": "HTMLView",
            "style": "IPY_MODEL_0fe91cb301294ea9ab722e8490cb6fe0",
            "_dom_classes": [],
            "description": "",
            "_model_name": "HTMLModel",
            "placeholder": "​",
            "_view_module": "@jupyter-widgets/controls",
            "_model_module_version": "1.5.0",
            "value": " 10000/? [00:37&lt;00:00, 267.99 Docs/s]",
            "_view_count": null,
            "_view_module_version": "1.5.0",
            "description_tooltip": null,
            "_model_module": "@jupyter-widgets/controls",
            "layout": "IPY_MODEL_aeae6b5ccaa341ba95898d30305ba5df"
          }
        },
        "11d11d7331b24889a99287c4b4373164": {
          "model_module": "@jupyter-widgets/controls",
          "model_name": "DescriptionStyleModel",
          "model_module_version": "1.5.0",
          "state": {
            "_view_name": "StyleView",
            "_model_name": "DescriptionStyleModel",
            "description_width": "",
            "_view_module": "@jupyter-widgets/base",
            "_model_module_version": "1.5.0",
            "_view_count": null,
            "_view_module_version": "1.2.0",
            "_model_module": "@jupyter-widgets/controls"
          }
        },
        "622533d3b0f3443e930cfd6be233a0e7": {
          "model_module": "@jupyter-widgets/base",
          "model_name": "LayoutModel",
          "model_module_version": "1.2.0",
          "state": {
            "_view_name": "LayoutView",
            "grid_template_rows": null,
            "right": null,
            "justify_content": null,
            "_view_module": "@jupyter-widgets/base",
            "overflow": null,
            "_model_module_version": "1.2.0",
            "_view_count": null,
            "flex_flow": null,
            "width": null,
            "min_width": null,
            "border": null,
            "align_items": null,
            "bottom": null,
            "_model_module": "@jupyter-widgets/base",
            "top": null,
            "grid_column": null,
            "overflow_y": null,
            "overflow_x": null,
            "grid_auto_flow": null,
            "grid_area": null,
            "grid_template_columns": null,
            "flex": null,
            "_model_name": "LayoutModel",
            "justify_items": null,
            "grid_row": null,
            "max_height": null,
            "align_content": null,
            "visibility": null,
            "align_self": null,
            "height": null,
            "min_height": null,
            "padding": null,
            "grid_auto_rows": null,
            "grid_gap": null,
            "max_width": null,
            "order": null,
            "_view_module_version": "1.2.0",
            "grid_template_areas": null,
            "object_position": null,
            "object_fit": null,
            "grid_auto_columns": null,
            "margin": null,
            "display": null,
            "left": null
          }
        },
        "71a12a232f29489d82fdeefc838b6582": {
          "model_module": "@jupyter-widgets/controls",
          "model_name": "ProgressStyleModel",
          "model_module_version": "1.5.0",
          "state": {
            "_view_name": "StyleView",
            "_model_name": "ProgressStyleModel",
            "description_width": "",
            "_view_module": "@jupyter-widgets/base",
            "_model_module_version": "1.5.0",
            "_view_count": null,
            "_view_module_version": "1.2.0",
            "bar_color": null,
            "_model_module": "@jupyter-widgets/controls"
          }
        },
        "94e6375dab434184b6fa04fc8767ba76": {
          "model_module": "@jupyter-widgets/base",
          "model_name": "LayoutModel",
          "model_module_version": "1.2.0",
          "state": {
            "_view_name": "LayoutView",
            "grid_template_rows": null,
            "right": null,
            "justify_content": null,
            "_view_module": "@jupyter-widgets/base",
            "overflow": null,
            "_model_module_version": "1.2.0",
            "_view_count": null,
            "flex_flow": null,
            "width": null,
            "min_width": null,
            "border": null,
            "align_items": null,
            "bottom": null,
            "_model_module": "@jupyter-widgets/base",
            "top": null,
            "grid_column": null,
            "overflow_y": null,
            "overflow_x": null,
            "grid_auto_flow": null,
            "grid_area": null,
            "grid_template_columns": null,
            "flex": null,
            "_model_name": "LayoutModel",
            "justify_items": null,
            "grid_row": null,
            "max_height": null,
            "align_content": null,
            "visibility": null,
            "align_self": null,
            "height": null,
            "min_height": null,
            "padding": null,
            "grid_auto_rows": null,
            "grid_gap": null,
            "max_width": null,
            "order": null,
            "_view_module_version": "1.2.0",
            "grid_template_areas": null,
            "object_position": null,
            "object_fit": null,
            "grid_auto_columns": null,
            "margin": null,
            "display": null,
            "left": null
          }
        },
        "0fe91cb301294ea9ab722e8490cb6fe0": {
          "model_module": "@jupyter-widgets/controls",
          "model_name": "DescriptionStyleModel",
          "model_module_version": "1.5.0",
          "state": {
            "_view_name": "StyleView",
            "_model_name": "DescriptionStyleModel",
            "description_width": "",
            "_view_module": "@jupyter-widgets/base",
            "_model_module_version": "1.5.0",
            "_view_count": null,
            "_view_module_version": "1.2.0",
            "_model_module": "@jupyter-widgets/controls"
          }
        },
        "aeae6b5ccaa341ba95898d30305ba5df": {
          "model_module": "@jupyter-widgets/base",
          "model_name": "LayoutModel",
          "model_module_version": "1.2.0",
          "state": {
            "_view_name": "LayoutView",
            "grid_template_rows": null,
            "right": null,
            "justify_content": null,
            "_view_module": "@jupyter-widgets/base",
            "overflow": null,
            "_model_module_version": "1.2.0",
            "_view_count": null,
            "flex_flow": null,
            "width": null,
            "min_width": null,
            "border": null,
            "align_items": null,
            "bottom": null,
            "_model_module": "@jupyter-widgets/base",
            "top": null,
            "grid_column": null,
            "overflow_y": null,
            "overflow_x": null,
            "grid_auto_flow": null,
            "grid_area": null,
            "grid_template_columns": null,
            "flex": null,
            "_model_name": "LayoutModel",
            "justify_items": null,
            "grid_row": null,
            "max_height": null,
            "align_content": null,
            "visibility": null,
            "align_self": null,
            "height": null,
            "min_height": null,
            "padding": null,
            "grid_auto_rows": null,
            "grid_gap": null,
            "max_width": null,
            "order": null,
            "_view_module_version": "1.2.0",
            "grid_template_areas": null,
            "object_position": null,
            "object_fit": null,
            "grid_auto_columns": null,
            "margin": null,
            "display": null,
            "left": null
          }
        },
        "91ecd1ef48ed4f5ab1da5d78af05c037": {
          "model_module": "@jupyter-widgets/controls",
          "model_name": "HBoxModel",
          "model_module_version": "1.5.0",
          "state": {
            "_view_name": "HBoxView",
            "_dom_classes": [],
            "_model_name": "HBoxModel",
            "_view_module": "@jupyter-widgets/controls",
            "_model_module_version": "1.5.0",
            "_view_count": null,
            "_view_module_version": "1.5.0",
            "box_style": "",
            "layout": "IPY_MODEL_0618053f884b43edb52f96260365af82",
            "_model_module": "@jupyter-widgets/controls",
            "children": [
              "IPY_MODEL_f5872c126097458d97fcaa5225b10472",
              "IPY_MODEL_198efccea20b4d9a8a4efc876ffb98ad",
              "IPY_MODEL_acd38f4a210c4fc5a782476b60326557"
            ]
          }
        },
        "0618053f884b43edb52f96260365af82": {
          "model_module": "@jupyter-widgets/base",
          "model_name": "LayoutModel",
          "model_module_version": "1.2.0",
          "state": {
            "_view_name": "LayoutView",
            "grid_template_rows": null,
            "right": null,
            "justify_content": null,
            "_view_module": "@jupyter-widgets/base",
            "overflow": null,
            "_model_module_version": "1.2.0",
            "_view_count": null,
            "flex_flow": null,
            "width": null,
            "min_width": null,
            "border": null,
            "align_items": null,
            "bottom": null,
            "_model_module": "@jupyter-widgets/base",
            "top": null,
            "grid_column": null,
            "overflow_y": null,
            "overflow_x": null,
            "grid_auto_flow": null,
            "grid_area": null,
            "grid_template_columns": null,
            "flex": null,
            "_model_name": "LayoutModel",
            "justify_items": null,
            "grid_row": null,
            "max_height": null,
            "align_content": null,
            "visibility": null,
            "align_self": null,
            "height": null,
            "min_height": null,
            "padding": null,
            "grid_auto_rows": null,
            "grid_gap": null,
            "max_width": null,
            "order": null,
            "_view_module_version": "1.2.0",
            "grid_template_areas": null,
            "object_position": null,
            "object_fit": null,
            "grid_auto_columns": null,
            "margin": null,
            "display": null,
            "left": null
          }
        },
        "f5872c126097458d97fcaa5225b10472": {
          "model_module": "@jupyter-widgets/controls",
          "model_name": "HTMLModel",
          "model_module_version": "1.5.0",
          "state": {
            "_view_name": "HTMLView",
            "style": "IPY_MODEL_858f75408edd4dc5a23ef80f1afa4370",
            "_dom_classes": [],
            "description": "",
            "_model_name": "HTMLModel",
            "placeholder": "​",
            "_view_module": "@jupyter-widgets/controls",
            "_model_module_version": "1.5.0",
            "value": "Create embeddings: 100%",
            "_view_count": null,
            "_view_module_version": "1.5.0",
            "description_tooltip": null,
            "_model_module": "@jupyter-widgets/controls",
            "layout": "IPY_MODEL_9650c6200375423ea4b7a4633606841a"
          }
        },
        "198efccea20b4d9a8a4efc876ffb98ad": {
          "model_module": "@jupyter-widgets/controls",
          "model_name": "FloatProgressModel",
          "model_module_version": "1.5.0",
          "state": {
            "_view_name": "ProgressView",
            "style": "IPY_MODEL_8b18cbc9177942b8ab10c1f0d73f7adf",
            "_dom_classes": [],
            "description": "",
            "_model_name": "FloatProgressModel",
            "bar_style": "",
            "max": 816,
            "_view_module": "@jupyter-widgets/controls",
            "_model_module_version": "1.5.0",
            "value": 816,
            "_view_count": null,
            "_view_module_version": "1.5.0",
            "orientation": "horizontal",
            "min": 0,
            "description_tooltip": null,
            "_model_module": "@jupyter-widgets/controls",
            "layout": "IPY_MODEL_9fe5b88211f749aaaa54c2414e592a67"
          }
        },
        "acd38f4a210c4fc5a782476b60326557": {
          "model_module": "@jupyter-widgets/controls",
          "model_name": "HTMLModel",
          "model_module_version": "1.5.0",
          "state": {
            "_view_name": "HTMLView",
            "style": "IPY_MODEL_e70d51aff2424e988f52362b628369da",
            "_dom_classes": [],
            "description": "",
            "_model_name": "HTMLModel",
            "placeholder": "​",
            "_view_module": "@jupyter-widgets/controls",
            "_model_module_version": "1.5.0",
            "value": " 816/816 [00:25&lt;00:00, 34.04 Docs/s]",
            "_view_count": null,
            "_view_module_version": "1.5.0",
            "description_tooltip": null,
            "_model_module": "@jupyter-widgets/controls",
            "layout": "IPY_MODEL_a8b747f6760a40419125054c34f6f75d"
          }
        },
        "858f75408edd4dc5a23ef80f1afa4370": {
          "model_module": "@jupyter-widgets/controls",
          "model_name": "DescriptionStyleModel",
          "model_module_version": "1.5.0",
          "state": {
            "_view_name": "StyleView",
            "_model_name": "DescriptionStyleModel",
            "description_width": "",
            "_view_module": "@jupyter-widgets/base",
            "_model_module_version": "1.5.0",
            "_view_count": null,
            "_view_module_version": "1.2.0",
            "_model_module": "@jupyter-widgets/controls"
          }
        },
        "9650c6200375423ea4b7a4633606841a": {
          "model_module": "@jupyter-widgets/base",
          "model_name": "LayoutModel",
          "model_module_version": "1.2.0",
          "state": {
            "_view_name": "LayoutView",
            "grid_template_rows": null,
            "right": null,
            "justify_content": null,
            "_view_module": "@jupyter-widgets/base",
            "overflow": null,
            "_model_module_version": "1.2.0",
            "_view_count": null,
            "flex_flow": null,
            "width": null,
            "min_width": null,
            "border": null,
            "align_items": null,
            "bottom": null,
            "_model_module": "@jupyter-widgets/base",
            "top": null,
            "grid_column": null,
            "overflow_y": null,
            "overflow_x": null,
            "grid_auto_flow": null,
            "grid_area": null,
            "grid_template_columns": null,
            "flex": null,
            "_model_name": "LayoutModel",
            "justify_items": null,
            "grid_row": null,
            "max_height": null,
            "align_content": null,
            "visibility": null,
            "align_self": null,
            "height": null,
            "min_height": null,
            "padding": null,
            "grid_auto_rows": null,
            "grid_gap": null,
            "max_width": null,
            "order": null,
            "_view_module_version": "1.2.0",
            "grid_template_areas": null,
            "object_position": null,
            "object_fit": null,
            "grid_auto_columns": null,
            "margin": null,
            "display": null,
            "left": null
          }
        },
        "8b18cbc9177942b8ab10c1f0d73f7adf": {
          "model_module": "@jupyter-widgets/controls",
          "model_name": "ProgressStyleModel",
          "model_module_version": "1.5.0",
          "state": {
            "_view_name": "StyleView",
            "_model_name": "ProgressStyleModel",
            "description_width": "",
            "_view_module": "@jupyter-widgets/base",
            "_model_module_version": "1.5.0",
            "_view_count": null,
            "_view_module_version": "1.2.0",
            "bar_color": null,
            "_model_module": "@jupyter-widgets/controls"
          }
        },
        "9fe5b88211f749aaaa54c2414e592a67": {
          "model_module": "@jupyter-widgets/base",
          "model_name": "LayoutModel",
          "model_module_version": "1.2.0",
          "state": {
            "_view_name": "LayoutView",
            "grid_template_rows": null,
            "right": null,
            "justify_content": null,
            "_view_module": "@jupyter-widgets/base",
            "overflow": null,
            "_model_module_version": "1.2.0",
            "_view_count": null,
            "flex_flow": null,
            "width": null,
            "min_width": null,
            "border": null,
            "align_items": null,
            "bottom": null,
            "_model_module": "@jupyter-widgets/base",
            "top": null,
            "grid_column": null,
            "overflow_y": null,
            "overflow_x": null,
            "grid_auto_flow": null,
            "grid_area": null,
            "grid_template_columns": null,
            "flex": null,
            "_model_name": "LayoutModel",
            "justify_items": null,
            "grid_row": null,
            "max_height": null,
            "align_content": null,
            "visibility": null,
            "align_self": null,
            "height": null,
            "min_height": null,
            "padding": null,
            "grid_auto_rows": null,
            "grid_gap": null,
            "max_width": null,
            "order": null,
            "_view_module_version": "1.2.0",
            "grid_template_areas": null,
            "object_position": null,
            "object_fit": null,
            "grid_auto_columns": null,
            "margin": null,
            "display": null,
            "left": null
          }
        },
        "e70d51aff2424e988f52362b628369da": {
          "model_module": "@jupyter-widgets/controls",
          "model_name": "DescriptionStyleModel",
          "model_module_version": "1.5.0",
          "state": {
            "_view_name": "StyleView",
            "_model_name": "DescriptionStyleModel",
            "description_width": "",
            "_view_module": "@jupyter-widgets/base",
            "_model_module_version": "1.5.0",
            "_view_count": null,
            "_view_module_version": "1.2.0",
            "_model_module": "@jupyter-widgets/controls"
          }
        },
        "a8b747f6760a40419125054c34f6f75d": {
          "model_module": "@jupyter-widgets/base",
          "model_name": "LayoutModel",
          "model_module_version": "1.2.0",
          "state": {
            "_view_name": "LayoutView",
            "grid_template_rows": null,
            "right": null,
            "justify_content": null,
            "_view_module": "@jupyter-widgets/base",
            "overflow": null,
            "_model_module_version": "1.2.0",
            "_view_count": null,
            "flex_flow": null,
            "width": null,
            "min_width": null,
            "border": null,
            "align_items": null,
            "bottom": null,
            "_model_module": "@jupyter-widgets/base",
            "top": null,
            "grid_column": null,
            "overflow_y": null,
            "overflow_x": null,
            "grid_auto_flow": null,
            "grid_area": null,
            "grid_template_columns": null,
            "flex": null,
            "_model_name": "LayoutModel",
            "justify_items": null,
            "grid_row": null,
            "max_height": null,
            "align_content": null,
            "visibility": null,
            "align_self": null,
            "height": null,
            "min_height": null,
            "padding": null,
            "grid_auto_rows": null,
            "grid_gap": null,
            "max_width": null,
            "order": null,
            "_view_module_version": "1.2.0",
            "grid_template_areas": null,
            "object_position": null,
            "object_fit": null,
            "grid_auto_columns": null,
            "margin": null,
            "display": null,
            "left": null
          }
        }
      }
    }
  },
  "cells": [
    {
      "cell_type": "markdown",
      "metadata": {
        "id": "UHtRUaPYf7D2"
      },
      "source": [
        "##**Crypto-Answer**\n",
        "###Annika Köhler (2145451), Markus Schmidbauer (2144933) BA Medieninformatik\n",
        " \n",
        "Cryptocurrencies as alternative investment forms are in high demand [1]. Cyptocurrency-Websites which display data including information about the price or the volume of each of the thousands currencies are confusing and overwhelming especially for newcomers [2][1]. A Question Answering (QA) system for cryptocurrency would fix this problem. The purpose of such a QA-System is to be simple and effective for a user to recieve an answer to a question on the topic of cryptocurrency.\n",
        "In the following a Question-Answering System for Cryptocurrency is being implemented. \n",
        "\n",
        "We used Haystack to build our QA-system [3].\n",
        "\n",
        " \n",
        "---\n",
        " \n",
        " \n",
        "Make sure you open this notebook in a Chrome (or Chromium-based) browser, otherwise complication with the webcrawler could arise.\n",
        "\n",
        "\n",
        "\n",
        "---\n",
        "\n",
        "**The QA-systems architecture:**\n",
        "\n",
        "<img height=\"400px\" src= \"https://drive.google.com/uc?export=view&id=1CpzXC_YuMFifrlum67ILLxWW0-X6-81E\">\n",
        "\n",
        "\n",
        "\n",
        "\n",
        "\n",
        "\n",
        "\n",
        "\n",
        "\n",
        "\n"
      ]
    },
    {
      "cell_type": "markdown",
      "metadata": {
        "id": "Y9UGxk1NKnsI"
      },
      "source": [
        "##Installation"
      ]
    },
    {
      "cell_type": "markdown",
      "metadata": {
        "id": "BVweQetZJ8q9"
      },
      "source": [
        "Make sure you enable the GPU runtime to experience decent speed.\n",
        " \n",
        "Do the following steps:\n",
        " \n",
        " \n",
        " \n",
        "1.   click in the menu-bar at the top on Runtime\n",
        "2.   click in the drop-down menu on Change Runtime type\n",
        "3.   for the Hardware accelerator select -> GPU\n",
        "4.   click save"
      ]
    },
    {
      "cell_type": "code",
      "metadata": {
        "id": "o3kj3EUDgYUk"
      },
      "source": [
        "#Make sure you enable the GPU runtime to experience decent speed\n",
        "!nvidia-smi\n",
        " \n",
        "#Installation of Haystack\n",
        "!pip install farm-haystack\n",
        "!pip install grpcio-tools\n",
        "!pip install git+https://github.com/deepset-ai/haystack.git\n",
        " \n",
        "#Install to be able to create a connection to our website\n",
        "!pip install anvil-uplink"
      ],
      "execution_count": null,
      "outputs": []
    },
    {
      "cell_type": "markdown",
      "metadata": {
        "id": "lQHzKSoyKE4m"
      },
      "source": [
        "These are necessary import-statements for the Pipeline"
      ]
    },
    {
      "cell_type": "code",
      "metadata": {
        "id": "OIlBmHKfiRTw"
      },
      "source": [
        "import importlib\n",
        "import pkg_resources\n",
        "importlib.reload(pkg_resources)\n",
        "import haystack\n",
        "from haystack.reader.farm import FARMReader\n",
        "from haystack.utils import print_answers\n",
        "from haystack.retriever.sparse import ElasticsearchRetriever\n",
        "import anvil.server"
      ],
      "execution_count": null,
      "outputs": []
    },
    {
      "cell_type": "markdown",
      "metadata": {
        "id": "6hQdLAHkcK_L"
      },
      "source": [
        "#Mount to GoogleDrive\n",
        " \n",
        "We use google drive to mount our fine-tuning data file. \n",
        " \n",
        "The folder structure is as following:\n",
        " \n",
        "  Colab Notebooks -> Crypto-Answer-main -> data -> squad20 -> training_data.json\n",
        " \n",
        " \n",
        "---\n",
        " \n",
        "To be able to use files from Google drive do the following steps:\n",
        " \n",
        " \n",
        " \n",
        "1.   run this cell and click on the returned link\n",
        "2.   select the google-account with which this notebook is connected\n",
        "3.   click on log in\n",
        "4.   copy the key\n",
        "5.   enter the copied key into the displayed input field"
      ]
    },
    {
      "cell_type": "code",
      "metadata": {
        "id": "85ym-7w_YKMS"
      },
      "source": [
        "from google.colab import drive\n",
        "drive.mount('/content/drive')"
      ],
      "execution_count": null,
      "outputs": []
    },
    {
      "cell_type": "markdown",
      "metadata": {
        "id": "63DYMtV3sotn"
      },
      "source": [
        "#Architecture"
      ]
    },
    {
      "cell_type": "markdown",
      "metadata": {
        "id": "kt8_7G-KMxPO"
      },
      "source": [
        "##Reader and Fine Tuning"
      ]
    },
    {
      "cell_type": "markdown",
      "metadata": {
        "id": "FhWp9enEHETo"
      },
      "source": [
        "We used the pre-trained roberta-base-squad2 model from Huggingface as our base reader [4].\n",
        "\n",
        "To fine-tune our reader we used Haystack's provided Annotation Tool [5], to train the reader on our own Question-Answer pairs, which are stored in the file \"training_data_fine_tuning.json\". \n",
        "\n",
        "-> Move your Folder Crypto-Answer-main either to the correct directory (Google Drive -> Colab Notebooks), or change data_dir to the location it is stored.\n"
      ]
    },
    {
      "cell_type": "code",
      "metadata": {
        "id": "VbH6OSjj9M8O",
        "colab": {
          "base_uri": "https://localhost:8080/",
          "height": 852,
          "referenced_widgets": [
            "f3bf4d648a844ff1b4972a83fedfc94c",
            "e017dd7ebecd4097864d6e07d6e0bb4a",
            "98cf9534eb83496e98fc0dac0797db79",
            "3b06e646e033434db0219de96ded5460",
            "69fdb51cc05046c0b16d9f30271f98f3",
            "4b20497b37ed4be88266f7162b15eafe"
          ]
        },
        "outputId": "b62f3159-3a1b-4525-f5aa-9afd59f5a34e"
      },
      "source": [
        "#reader based on the pre-trained roberta-base-squad2 model from Huggingface\n",
        "reader = FARMReader(model_name_or_path=\"deepset/roberta-base-squad2\", use_gpu=True)\n",
        "\n",
        "#directory for training_data_fine_tuning.json\n",
        "data_dir = \"/content/drive/MyDrive/Colab Notebooks/Crypto-Answer-main/data/squad20/\"\n",
        "\n",
        "#fine-tune the reader on our training_data_fine_tuning.json data from Haystack's Annotation Tool\n",
        "reader.train(data_dir=data_dir, train_filename=\"training_data_fine_tuning.json\", use_gpu=True, n_epochs=1, save_dir=\"my_model\")"
      ],
      "execution_count": null,
      "outputs": [
        {
          "metadata": {
            "tags": null
          },
          "name": "stderr",
          "output_type": "stream",
          "text": [
            "09/12/2021 15:59:44 - INFO - farm.utils -   Using device: CUDA \n",
            "09/12/2021 15:59:44 - INFO - farm.utils -   Number of GPUs: 1\n",
            "09/12/2021 15:59:44 - INFO - farm.utils -   Distributed Training: False\n",
            "09/12/2021 15:59:44 - INFO - farm.utils -   Automatic Mixed Precision: None\n",
            "09/12/2021 15:59:44 - INFO - filelock -   Lock 139886016763024 acquired on /root/.cache/huggingface/transformers/c40d0abb589629c48763f271020d0b1f602f5208c432c0874d420491ed37e28b.122ed338b3591c07dba452777c59ff52330edb340d3d56d67aa9117ad9905673.lock\n"
          ]
        },
        {
          "data": {
            "application/vnd.jupyter.widget-view+json": {
              "model_id": "f3bf4d648a844ff1b4972a83fedfc94c",
              "version_major": 2,
              "version_minor": 0
            },
            "text/plain": [
              "Downloading:   0%|          | 0.00/571 [00:00<?, ?B/s]"
            ]
          },
          "metadata": {},
          "output_type": "display_data"
        },
        {
          "metadata": {
            "tags": null
          },
          "name": "stderr",
          "output_type": "stream",
          "text": [
            "09/12/2021 15:59:44 - INFO - filelock -   Lock 139886016763024 released on /root/.cache/huggingface/transformers/c40d0abb589629c48763f271020d0b1f602f5208c432c0874d420491ed37e28b.122ed338b3591c07dba452777c59ff52330edb340d3d56d67aa9117ad9905673.lock\n",
            "09/12/2021 15:59:44 - INFO - filelock -   Lock 139886018258512 acquired on /root/.cache/huggingface/transformers/eac3273a8097dda671e3bea1db32c616e74f36a306c65b4858171c98d6db83e9.084aa7284f3a51fa1c8f0641aa04c47d366fbd18711f29d0a995693cfdbc9c9e.lock\n"
          ]
        },
        {
          "data": {
            "application/vnd.jupyter.widget-view+json": {
              "model_id": "e017dd7ebecd4097864d6e07d6e0bb4a",
              "version_major": 2,
              "version_minor": 0
            },
            "text/plain": [
              "Downloading:   0%|          | 0.00/496M [00:00<?, ?B/s]"
            ]
          },
          "metadata": {},
          "output_type": "display_data"
        },
        {
          "metadata": {
            "tags": null
          },
          "name": "stderr",
          "output_type": "stream",
          "text": [
            "09/12/2021 16:00:10 - INFO - filelock -   Lock 139886018258512 released on /root/.cache/huggingface/transformers/eac3273a8097dda671e3bea1db32c616e74f36a306c65b4858171c98d6db83e9.084aa7284f3a51fa1c8f0641aa04c47d366fbd18711f29d0a995693cfdbc9c9e.lock\n",
            "Some weights of the model checkpoint at deepset/roberta-base-squad2 were not used when initializing RobertaModel: ['qa_outputs.weight', 'qa_outputs.bias']\n",
            "- This IS expected if you are initializing RobertaModel from the checkpoint of a model trained on another task or with another architecture (e.g. initializing a BertForSequenceClassification model from a BertForPreTraining model).\n",
            "- This IS NOT expected if you are initializing RobertaModel from the checkpoint of a model that you expect to be exactly identical (initializing a BertForSequenceClassification model from a BertForSequenceClassification model).\n",
            "Some weights of RobertaModel were not initialized from the model checkpoint at deepset/roberta-base-squad2 and are newly initialized: ['roberta.pooler.dense.weight', 'roberta.pooler.dense.bias']\n",
            "You should probably TRAIN this model on a down-stream task to be able to use it for predictions and inference.\n",
            "09/12/2021 16:00:17 - INFO - filelock -   Lock 139885986890576 acquired on /root/.cache/huggingface/transformers/81c80edb4c6cefa5cae64ccfdb34b3b309ecaf60da99da7cd1c17e24a5d36eb5.647b4548b6d9ea817e82e7a9231a320231a1c9ea24053cc9e758f3fe68216f05.lock\n"
          ]
        },
        {
          "data": {
            "application/vnd.jupyter.widget-view+json": {
              "model_id": "98cf9534eb83496e98fc0dac0797db79",
              "version_major": 2,
              "version_minor": 0
            },
            "text/plain": [
              "Downloading:   0%|          | 0.00/899k [00:00<?, ?B/s]"
            ]
          },
          "metadata": {},
          "output_type": "display_data"
        },
        {
          "metadata": {
            "tags": null
          },
          "name": "stderr",
          "output_type": "stream",
          "text": [
            "09/12/2021 16:00:17 - INFO - filelock -   Lock 139885986890576 released on /root/.cache/huggingface/transformers/81c80edb4c6cefa5cae64ccfdb34b3b309ecaf60da99da7cd1c17e24a5d36eb5.647b4548b6d9ea817e82e7a9231a320231a1c9ea24053cc9e758f3fe68216f05.lock\n",
            "09/12/2021 16:00:17 - INFO - filelock -   Lock 139885976296400 acquired on /root/.cache/huggingface/transformers/b87d46371731376b11768b7839b1a5938a4f77d6bd2d9b683f167df0026af432.5d12962c5ee615a4c803841266e9c3be9a691a924f72d395d3a6c6c81157788b.lock\n"
          ]
        },
        {
          "data": {
            "application/vnd.jupyter.widget-view+json": {
              "model_id": "3b06e646e033434db0219de96ded5460",
              "version_major": 2,
              "version_minor": 0
            },
            "text/plain": [
              "Downloading:   0%|          | 0.00/456k [00:00<?, ?B/s]"
            ]
          },
          "metadata": {},
          "output_type": "display_data"
        },
        {
          "metadata": {
            "tags": null
          },
          "name": "stderr",
          "output_type": "stream",
          "text": [
            "09/12/2021 16:00:18 - INFO - filelock -   Lock 139885976296400 released on /root/.cache/huggingface/transformers/b87d46371731376b11768b7839b1a5938a4f77d6bd2d9b683f167df0026af432.5d12962c5ee615a4c803841266e9c3be9a691a924f72d395d3a6c6c81157788b.lock\n",
            "09/12/2021 16:00:18 - INFO - filelock -   Lock 139885976297168 acquired on /root/.cache/huggingface/transformers/c9d2c178fac8d40234baa1833a3b1903d393729bf93ea34da247c07db24900d0.cb2244924ab24d706b02fd7fcedaea4531566537687a539ebb94db511fd122a0.lock\n"
          ]
        },
        {
          "data": {
            "application/vnd.jupyter.widget-view+json": {
              "model_id": "69fdb51cc05046c0b16d9f30271f98f3",
              "version_major": 2,
              "version_minor": 0
            },
            "text/plain": [
              "Downloading:   0%|          | 0.00/772 [00:00<?, ?B/s]"
            ]
          },
          "metadata": {},
          "output_type": "display_data"
        },
        {
          "metadata": {
            "tags": null
          },
          "name": "stderr",
          "output_type": "stream",
          "text": [
            "09/12/2021 16:00:18 - INFO - filelock -   Lock 139885976297168 released on /root/.cache/huggingface/transformers/c9d2c178fac8d40234baa1833a3b1903d393729bf93ea34da247c07db24900d0.cb2244924ab24d706b02fd7fcedaea4531566537687a539ebb94db511fd122a0.lock\n",
            "09/12/2021 16:00:19 - INFO - filelock -   Lock 139885976241808 acquired on /root/.cache/huggingface/transformers/e8a600814b69e3ee74bb4a7398cc6fef9812475010f16a6c9f151b2c2772b089.451739a2f3b82c3375da0dfc6af295bedc4567373b171f514dd09a4cc4b31513.lock\n"
          ]
        },
        {
          "data": {
            "application/vnd.jupyter.widget-view+json": {
              "model_id": "4b20497b37ed4be88266f7162b15eafe",
              "version_major": 2,
              "version_minor": 0
            },
            "text/plain": [
              "Downloading:   0%|          | 0.00/79.0 [00:00<?, ?B/s]"
            ]
          },
          "metadata": {},
          "output_type": "display_data"
        },
        {
          "metadata": {
            "tags": null
          },
          "name": "stderr",
          "output_type": "stream",
          "text": [
            "09/12/2021 16:00:19 - INFO - filelock -   Lock 139885976241808 released on /root/.cache/huggingface/transformers/e8a600814b69e3ee74bb4a7398cc6fef9812475010f16a6c9f151b2c2772b089.451739a2f3b82c3375da0dfc6af295bedc4567373b171f514dd09a4cc4b31513.lock\n",
            "09/12/2021 16:00:19 - WARNING - farm.utils -   ML Logging is turned off. No parameters, metrics or artifacts will be logged to MLFlow.\n",
            "09/12/2021 16:00:19 - INFO - farm.utils -   Using device: CUDA \n",
            "09/12/2021 16:00:19 - INFO - farm.utils -   Number of GPUs: 1\n",
            "09/12/2021 16:00:19 - INFO - farm.utils -   Distributed Training: False\n",
            "09/12/2021 16:00:19 - INFO - farm.utils -   Automatic Mixed Precision: None\n",
            "09/12/2021 16:00:19 - INFO - farm.infer -   Got ya 2 parallel workers to do inference ...\n",
            "09/12/2021 16:00:19 - INFO - farm.infer -    0    0 \n",
            "09/12/2021 16:00:19 - INFO - farm.infer -   /w\\  /w\\\n",
            "09/12/2021 16:00:19 - INFO - farm.infer -   /'\\  / \\\n",
            "09/12/2021 16:00:19 - INFO - farm.infer -     \n",
            "09/12/2021 16:00:19 - INFO - farm.utils -   Using device: CUDA \n",
            "09/12/2021 16:00:19 - INFO - farm.utils -   Number of GPUs: 1\n",
            "09/12/2021 16:00:19 - INFO - farm.utils -   Distributed Training: False\n",
            "09/12/2021 16:00:19 - INFO - farm.utils -   Automatic Mixed Precision: None\n",
            "Preprocessing Dataset /content/drive/MyDrive/Colab Notebooks/Crypto-Answer/data/squad20/training_data_fine_tuning.json:  22%|██▏       | 7/32 [00:04<00:15,  1.61 Dicts/s]\n",
            "09/12/2021 16:00:24 - INFO - farm.modeling.optimization -   Loading optimizer `TransformersAdamW`: '{'correct_bias': False, 'weight_decay': 0.01, 'lr': 1e-05}'\n",
            "09/12/2021 16:00:24 - INFO - farm.modeling.optimization -   Using scheduler 'get_linear_schedule_with_warmup'\n",
            "09/12/2021 16:00:24 - INFO - farm.modeling.optimization -   Loading schedule `get_linear_schedule_with_warmup`: '{'num_training_steps': 727, 'num_warmup_steps': 145}'\n",
            "Train epoch 0/0 (Cur. train loss: 0.0009): 100%|██████████| 727/727 [11:35<00:00,  1.04it/s]\n",
            "09/12/2021 16:12:00 - INFO - haystack.reader.farm -   Saving reader model to my_model\n"
          ]
        }
      ]
    },
    {
      "cell_type": "markdown",
      "metadata": {
        "id": "rrTrb-ecKigf"
      },
      "source": [
        "##Document-store\n",
        "\n",
        "Start Elasticsearch from source, to be able to use the Elasticsearch document-store [6].\n",
        "\n",
        "This process requires a few seconds.\n"
      ]
    },
    {
      "cell_type": "code",
      "metadata": {
        "id": "iUiCREVhjgod"
      },
      "source": [
        "! wget https://artifacts.elastic.co/downloads/elasticsearch/elasticsearch-7.9.2-linux-x86_64.tar.gz -q\n",
        "! tar -xzf elasticsearch-7.9.2-linux-x86_64.tar.gz\n",
        "! chown -R daemon:daemon elasticsearch-7.9.2\n",
        "\n",
        "import os\n",
        "from subprocess import Popen, PIPE, STDOUT\n",
        "es_server = Popen(['elasticsearch-7.9.2/bin/elasticsearch'],\n",
        "                   stdout=PIPE, stderr=STDOUT,\n",
        "                   preexec_fn=lambda: os.setuid(1)\n",
        "                  )\n",
        "\n",
        "! sleep 30"
      ],
      "execution_count": null,
      "outputs": []
    },
    {
      "cell_type": "markdown",
      "metadata": {
        "id": "FQb2DdZVKs-T"
      },
      "source": [
        "We create an Elasticsearch document-stores for the retriever models."
      ]
    },
    {
      "cell_type": "code",
      "metadata": {
        "id": "9CgYPRuajrNV",
        "colab": {
          "base_uri": "https://localhost:8080/"
        },
        "outputId": "bdbb091d-9bd3-4dfa-f7c7-01a162397eff"
      },
      "source": [
        "from haystack.document_store.elasticsearch import ElasticsearchDocumentStore\n",
        "document_store = ElasticsearchDocumentStore(host=\"localhost\", username=\"\", password=\"\", index=\"document\")"
      ],
      "execution_count": null,
      "outputs": [
        {
          "metadata": {
            "tags": null
          },
          "name": "stderr",
          "output_type": "stream",
          "text": [
            "09/12/2021 16:12:54 - INFO - elasticsearch -   HEAD http://localhost:9200/ [status:200 request:0.098s]\n",
            "09/12/2021 16:12:54 - INFO - elasticsearch -   PUT http://localhost:9200/document [status:200 request:0.476s]\n",
            "09/12/2021 16:12:55 - INFO - elasticsearch -   PUT http://localhost:9200/label [status:200 request:0.246s]\n"
          ]
        }
      ]
    },
    {
      "cell_type": "markdown",
      "metadata": {
        "id": "ThdtNVWO6_N8"
      },
      "source": [
        "This function saves the preprocessed dictionary into the elasticsearch document-store, after deleting already existing files. "
      ]
    },
    {
      "cell_type": "code",
      "metadata": {
        "id": "hA8HAnW8w4N5"
      },
      "source": [
        "def saveDataFromDictonaryToElasticseach(dicts):\n",
        "    try:\n",
        "      document_store.delete_documents()\n",
        "    except:\n",
        "      print(\"Document store is empty.\")\n",
        "    document_store.write_documents(dicts)"
      ],
      "execution_count": null,
      "outputs": []
    },
    {
      "cell_type": "markdown",
      "metadata": {
        "id": "8jl9ExYoOngf"
      },
      "source": [
        "##Pre-processing\n"
      ]
    },
    {
      "cell_type": "markdown",
      "metadata": {
        "id": "832zRp5QAEsD"
      },
      "source": [
        "To implement pre-processing steps on the documents, we also used the code from Haystack's official github page [9]. \n",
        "\n",
        "The provided Pre-processor did not work on our customized dictonary, therefore we modified the most relevant functions.\n",
        "\n",
        "These include cleaning unnecessary escape-sequences as well as splitting longer texts into multiple smaller paragraphs."
      ]
    },
    {
      "cell_type": "code",
      "metadata": {
        "id": "PIEY1cHyKLep"
      },
      "source": [
        "import logging\n",
        "import re\n",
        "from copy import deepcopy\n",
        "from functools import partial, reduce\n",
        "from itertools import chain\n",
        "from typing import List, Optional, Generator, Set, Union\n",
        "from more_itertools import windowed\n",
        "from tqdm import tqdm\n",
        "from haystack.preprocessor.base import BasePreProcessor\n",
        "logger = logging.getLogger(__name__)\n",
        "\n",
        "def preprocessDicts(dicts):\n",
        "  for dictionary in dicts:  \n",
        "    text = dictionary[\"text\"]\n",
        "    lines = text.splitlines()\n",
        "\n",
        "    cleaned_lines = []\n",
        "    for line in lines:\n",
        "      line = line.strip()\n",
        "      line.replace(\"\\n\", \" \\n\")\n",
        "      line.replace(\"\\t\", \" \\t\")\n",
        "      cleaned_lines.append(line)\n",
        "      text = \"\\n\".join(cleaned_lines)\n",
        "      text = re.sub(r\"\\n\\n+\", \"\\n\\n\", text)\n",
        "      \n",
        "    dictionary[\"text\"] = text\n",
        "  return dicts\n",
        "\n"
      ],
      "execution_count": null,
      "outputs": []
    },
    {
      "cell_type": "code",
      "metadata": {
        "id": "yEnSWRMeKNut",
        "colab": {
          "base_uri": "https://localhost:8080/"
        },
        "outputId": "4490f879-2cd6-49f5-930f-dc507a76db6f"
      },
      "source": [
        "import logging\n",
        "import re\n",
        "from copy import deepcopy\n",
        "from functools import partial, reduce\n",
        "from itertools import chain\n",
        "from typing import List, Optional, Generator, Set, Union\n",
        "from more_itertools import windowed\n",
        "from tqdm import tqdm\n",
        "from haystack.preprocessor.base import BasePreProcessor\n",
        "logger = logging.getLogger(__name__)\n",
        "import nltk\n",
        "nltk.download('punkt')\n",
        "from nltk.tokenize import word_tokenize,sent_tokenize\n",
        "\n",
        "\n",
        "def splitDictionaries(cleanedDicts):\n",
        "  split_length= 200\n",
        "  split_overlap=3\n",
        "  documents = []\n",
        "  for dictionary in cleanedDicts:  \n",
        "    text = dictionary[\"text\"]\n",
        "    \n",
        "    # split by words ensuring no sub sentence splits\n",
        "    sentences = sent_tokenize(text, language=\"english\")\n",
        "    word_count = 0\n",
        "    list_splits = []\n",
        "    current_slice: List[str] = []\n",
        "    for sen in sentences:\n",
        "        current_word_count = len(sen.split(\" \"))\n",
        "        if word_count + current_word_count > split_length:\n",
        "            list_splits.append(current_slice)\n",
        "            # Enable split_stride with split_by='word' while respecting sentence boundaries.\n",
        "            if split_overlap:\n",
        "                overlap = []\n",
        "                w_count = 0\n",
        "                for s in current_slice[::-1]:\n",
        "                    sen_len = len(s.split(\" \"))\n",
        "                    if w_count < split_overlap:\n",
        "                        overlap.append(s)\n",
        "                        w_count += sen_len\n",
        "                    else:\n",
        "                        break\n",
        "                current_slice = list(reversed(overlap))\n",
        "                word_count = w_count\n",
        "            else:\n",
        "                current_slice = []\n",
        "                word_count = 0\n",
        "        current_slice.append(sen)\n",
        "        word_count += len(sen.split(\" \"))\n",
        "    if current_slice:\n",
        "        list_splits.append(current_slice)\n",
        "\n",
        "    text_splits = []\n",
        "    for sl in list_splits:\n",
        "        txt = ' '.join(sl)\n",
        "        if len(txt) > 0:\n",
        "            text_splits.append(txt)\n",
        "\n",
        "\n",
        "    # create new document dicts for each text split\n",
        "    for i, txt in enumerate(text_splits):\n",
        "        doc = deepcopy(dictionary)\n",
        "        doc[\"text\"] = txt\n",
        "        if \"meta\" not in doc.keys() or doc[\"meta\"] is None:\n",
        "            doc[\"meta\"] = {}\n",
        "        doc[\"meta\"][\"_split_id\"] = i\n",
        "        documents.append(doc)\n",
        "\n",
        "  return documents\n"
      ],
      "execution_count": null,
      "outputs": [
        {
          "metadata": {
            "tags": null
          },
          "name": "stdout",
          "output_type": "stream",
          "text": [
            "[nltk_data] Downloading package punkt to /root/nltk_data...\n",
            "[nltk_data]   Unzipping tokenizers/punkt.zip.\n"
          ]
        }
      ]
    },
    {
      "cell_type": "markdown",
      "metadata": {
        "id": "cxKC-SJfKw5U"
      },
      "source": [
        "##Creating the Web-Crawler\n"
      ]
    },
    {
      "cell_type": "markdown",
      "metadata": {
        "id": "NdAKzQNiK0yy"
      },
      "source": [
        "The Webcrawler from the official Haystack website [7] did not work in Colab because of the Google Chrome Webdriver. \n",
        "\n",
        "Therefore we used the provided original code from the github-website of Haystack [8] and changed the code to work with Google Colab.\n",
        "\n",
        "We set our own chrome_options, used the webdriver from the webdriver-manager and removed the creation of textfiles, since the websites will be reloaded for real time data."
      ]
    },
    {
      "cell_type": "code",
      "metadata": {
        "id": "Ezu1NI7wQ5Ef",
        "colab": {
          "base_uri": "https://localhost:8080/",
          "height": 1000
        },
        "outputId": "08413d96-cdd2-4e7a-e73b-b8cc54a6a5fa"
      },
      "source": [
        "import json\n",
        "import logging\n",
        "import re\n",
        "from pathlib import Path\n",
        "from haystack.preprocessor.cleaning import clean_wiki_text\n",
        "from urllib.parse import urlparse\n",
        "from typing import List, Any, Optional, Dict, Tuple, Union\n",
        "from haystack.schema import Document, BaseComponent\n",
        "logger = logging.getLogger(__name__)\n",
        "!pip install webdriver-manager\n",
        "!pip install selenium\n",
        "!apt-get update \n",
        "!apt install chromium-chromedriver\n",
        "!cp /usr/lib/chromium-browser/chromedriver /usr/bin\n",
        "import sys\n",
        "sys.path.insert(0,'/usr/lib/chromium-browser/chromedriver')\n",
        "from selenium import webdriver\n",
        "urlsUpdate = []\n",
        "alreadyUpdated = False\n",
        "\n",
        "class Crawler(BaseComponent):\n",
        "   \n",
        "    outgoing_edges = 1\n",
        "\n",
        "    def __init__(self, output_dir: str, urls: Optional[List[str]] = None, crawler_depth: int = 1,\n",
        "                 filter_urls: Optional[List] = None, overwrite_existing_files=True):\n",
        "        #modified chrome_options and webdriver\n",
        "        chrome_options = webdriver.ChromeOptions()\n",
        "        chrome_options.add_argument('--headless')\n",
        "        chrome_options.add_argument('--no-sandbox')\n",
        "        chrome_options.add_argument('--disable-dev-shm-usage')\n",
        "        self.driver = webdriver.Chrome('chromedriver',options=chrome_options)\n",
        "        self.urls = urls\n",
        "        self.output_dir = output_dir\n",
        "        self.crawler_depth = crawler_depth\n",
        "        self.filter_urls = filter_urls\n",
        "        self.overwrite_existing_files = overwrite_existing_files\n",
        "\n",
        "    def crawl(self,  output_dir: Union[str, Path, None] = None,\n",
        "              urls: Optional[List[str]] = None,\n",
        "              crawler_depth: Optional[int] = None,\n",
        "              filter_urls: Optional[List] = None,\n",
        "              overwrite_existing_files: Optional[bool] = None) -> List[Path]:\n",
        "        \n",
        "        urls = urls or self.urls\n",
        "        output_dir = output_dir or self.output_dir\n",
        "        filter_urls = filter_urls or self.filter_urls\n",
        "        file_paths: list = []\n",
        "        sub_links: Dict[str, List] = {}\n",
        "\n",
        "        # don't go beyond the initial list of urls (starting pages)\n",
        "        if crawler_depth == 0:\n",
        "            file_paths.extend(self._write_to_files(urls, output_dir=output_dir))\n",
        "        # follow one level of sublinks (returns crawled pages)\n",
        "        elif crawler_depth == 1:\n",
        "            for url_ in urls:\n",
        "                existed_links: List = list(sum(list(sub_links.values()), []))\n",
        "                sub_links[url_] = list(self._extract_sublinks_from_url(base_url=url_, filter_urls=filter_urls,\n",
        "                                                                  existed_links=existed_links))\n",
        "            for url in sub_links:\n",
        "                file_paths.extend(self._write_to_files(sub_links[url], output_dir=output_dir, base_url=url))\n",
        "\n",
        "        return file_paths\n",
        "\n",
        "#we reused the functions created by Haystack's provided github code\n",
        "    def _write_to_files(self, urls: List[str], output_dir: Path, base_url: str = None) -> List[Path]:\n",
        "        paths = []\n",
        "        for link in urls:\n",
        "            if (alreadyUpdated != True):\n",
        "                urlsUpdate.append(link)\n",
        "            logger.info(f\"writing contents from `{link}`\")\n",
        "            self.driver.get(link)\n",
        "            el = self.driver.find_element_by_tag_name('body')\n",
        "            text = el.text\n",
        "\n",
        "            data = {}\n",
        "            \n",
        "            data['meta'] = {'url': link}\n",
        "            if base_url:\n",
        "                data['meta']['base_url'] = base_url\n",
        "            data['text'] = clean_wiki_text(text)\n",
        "            paths.append(data)\n",
        "\n",
        "        return paths\n",
        "\n",
        "    def run(self, output_dir: Union[str, Path, None] = None, urls: Optional[List[str]] = None,  # type: ignore\n",
        "            crawler_depth: Optional[int] = None, filter_urls: Optional[List] = None,  # type: ignore\n",
        "            overwrite_existing_files: Optional[bool] = None, return_documents: Optional[bool] = False,  # type: ignore\n",
        "            **kwargs) -> Tuple[Dict, str]:  # type: ignore\n",
        "        \n",
        "\n",
        "        file_paths = self.crawl(urls=urls, output_dir=output_dir, crawler_depth=crawler_depth,\n",
        "                                  filter_urls=filter_urls, overwrite_existing_files=overwrite_existing_files)\n",
        "        if return_documents:\n",
        "            crawled_data = [self._read_json_file(_file) for _file in file_paths]\n",
        "            results = {\"documents\": crawled_data}\n",
        "        else:\n",
        "            results = {\"paths\": file_paths}\n",
        "        results.update(**kwargs)\n",
        "        return results, \"output_1\"\n",
        "\n",
        "    @staticmethod\n",
        "    def _is_internal_url(base_url: str, sub_link: str) -> bool:\n",
        "        base_url_ = urlparse(base_url)\n",
        "        sub_link_ = urlparse(sub_link)\n",
        "        return base_url_.scheme == sub_link_.scheme and base_url_.netloc == sub_link_.netloc\n",
        "\n",
        "    @staticmethod\n",
        "    def _is_inpage_navigation(base_url: str, sub_link: str) -> bool:\n",
        "        base_url_ = urlparse(base_url)\n",
        "        sub_link_ = urlparse(sub_link)\n",
        "        return base_url_.path == sub_link_.path and base_url_.netloc == sub_link_.netloc\n",
        "\n",
        "    def _extract_sublinks_from_url(self, base_url: str,\n",
        "                                   filter_urls: Optional[List] = None,\n",
        "                                  existed_links: List = None) -> set:\n",
        "        self.driver.get(base_url)\n",
        "        a_elements = self.driver.find_elements_by_tag_name('a')\n",
        "        sub_links = set()\n",
        "        if not (existed_links and base_url in existed_links):\n",
        "            if filter_urls:\n",
        "                if re.compile('|'.join(filter_urls)).search(base_url):\n",
        "                    sub_links.add(base_url)\n",
        "\n",
        "        for i in a_elements:\n",
        "            sub_link = i.get_attribute('href')\n",
        "            if not (existed_links and sub_link in existed_links):\n",
        "                if self._is_internal_url(base_url=base_url, sub_link=sub_link) \\\n",
        "                        and (not self._is_inpage_navigation(base_url=base_url, sub_link=sub_link)):\n",
        "                    if filter_urls:\n",
        "                        if re.compile('|'.join(filter_urls)).search(sub_link):\n",
        "                            sub_links.add(sub_link)\n",
        "                    else:\n",
        "                        sub_links.add(sub_link)\n",
        "\n",
        "        return sub_links\n",
        "\n",
        "    def _read_json_file(self, file_path: Path):\n",
        "        \"\"\"Read the json file and return the content\"\"\"\n",
        "        with open(file_path.absolute(), \"r\") as read_file:\n",
        "            return json.load(read_file)\n"
      ],
      "execution_count": null,
      "outputs": [
        {
          "metadata": {
            "tags": null
          },
          "name": "stdout",
          "output_type": "stream",
          "text": [
            "Collecting webdriver-manager\n",
            "  Downloading webdriver_manager-3.4.2-py2.py3-none-any.whl (16 kB)\n",
            "Collecting configparser\n",
            "  Downloading configparser-5.0.2-py3-none-any.whl (19 kB)\n",
            "Collecting crayons\n",
            "  Downloading crayons-0.4.0-py2.py3-none-any.whl (4.6 kB)\n",
            "Requirement already satisfied: requests in /usr/local/lib/python3.7/dist-packages (from webdriver-manager) (2.23.0)\n",
            "Requirement already satisfied: colorama in /usr/local/lib/python3.7/dist-packages (from crayons->webdriver-manager) (0.4.4)\n",
            "Requirement already satisfied: chardet<4,>=3.0.2 in /usr/local/lib/python3.7/dist-packages (from requests->webdriver-manager) (3.0.4)\n",
            "Requirement already satisfied: idna<3,>=2.5 in /usr/local/lib/python3.7/dist-packages (from requests->webdriver-manager) (2.10)\n",
            "Requirement already satisfied: certifi>=2017.4.17 in /usr/local/lib/python3.7/dist-packages (from requests->webdriver-manager) (2021.5.30)\n",
            "Requirement already satisfied: urllib3!=1.25.0,!=1.25.1,<1.26,>=1.21.1 in /usr/local/lib/python3.7/dist-packages (from requests->webdriver-manager) (1.25.11)\n",
            "Installing collected packages: crayons, configparser, webdriver-manager\n",
            "Successfully installed configparser-5.0.2 crayons-0.4.0 webdriver-manager-3.4.2\n"
          ]
        },
        {
          "data": {
            "application/vnd.colab-display-data+json": {
              "pip_warning": {
                "packages": [
                  "configparser"
                ]
              }
            }
          },
          "metadata": {},
          "output_type": "display_data"
        },
        {
          "metadata": {
            "tags": null
          },
          "name": "stdout",
          "output_type": "stream",
          "text": [
            "Collecting selenium\n",
            "  Downloading selenium-3.141.0-py2.py3-none-any.whl (904 kB)\n",
            "\u001b[K     |████████████████████████████████| 904 kB 5.3 MB/s \n",
            "\u001b[?25hRequirement already satisfied: urllib3 in /usr/local/lib/python3.7/dist-packages (from selenium) (1.25.11)\n",
            "Installing collected packages: selenium\n",
            "Successfully installed selenium-3.141.0\n",
            "Get:1 https://cloud.r-project.org/bin/linux/ubuntu bionic-cran40/ InRelease [3,626 B]\n",
            "Ign:2 https://developer.download.nvidia.com/compute/cuda/repos/ubuntu1804/x86_64  InRelease\n",
            "Get:3 http://security.ubuntu.com/ubuntu bionic-security InRelease [88.7 kB]\n",
            "Ign:4 https://developer.download.nvidia.com/compute/machine-learning/repos/ubuntu1804/x86_64  InRelease\n",
            "Get:5 https://developer.download.nvidia.com/compute/cuda/repos/ubuntu1804/x86_64  Release [696 B]\n",
            "Get:6 http://ppa.launchpad.net/c2d4u.team/c2d4u4.0+/ubuntu bionic InRelease [15.9 kB]\n",
            "Hit:7 https://developer.download.nvidia.com/compute/machine-learning/repos/ubuntu1804/x86_64  Release\n",
            "Get:8 https://developer.download.nvidia.com/compute/cuda/repos/ubuntu1804/x86_64  Release.gpg [836 B]\n",
            "Hit:9 http://archive.ubuntu.com/ubuntu bionic InRelease\n",
            "Get:10 http://archive.ubuntu.com/ubuntu bionic-updates InRelease [88.7 kB]\n",
            "Hit:11 http://ppa.launchpad.net/cran/libgit2/ubuntu bionic InRelease\n",
            "Get:13 http://ppa.launchpad.net/deadsnakes/ppa/ubuntu bionic InRelease [15.9 kB]\n",
            "Get:14 http://archive.ubuntu.com/ubuntu bionic-backports InRelease [74.6 kB]\n",
            "Get:15 https://developer.download.nvidia.com/compute/cuda/repos/ubuntu1804/x86_64  Packages [717 kB]\n",
            "Hit:16 http://ppa.launchpad.net/graphics-drivers/ppa/ubuntu bionic InRelease\n",
            "Get:17 http://security.ubuntu.com/ubuntu bionic-security/universe amd64 Packages [1,428 kB]\n",
            "Get:18 http://security.ubuntu.com/ubuntu bionic-security/restricted amd64 Packages [560 kB]\n",
            "Get:19 http://security.ubuntu.com/ubuntu bionic-security/main amd64 Packages [2,320 kB]\n",
            "Get:20 http://ppa.launchpad.net/c2d4u.team/c2d4u4.0+/ubuntu bionic/main Sources [1,799 kB]\n",
            "Get:21 http://archive.ubuntu.com/ubuntu bionic-updates/restricted amd64 Packages [593 kB]\n",
            "Get:22 http://ppa.launchpad.net/c2d4u.team/c2d4u4.0+/ubuntu bionic/main amd64 Packages [921 kB]\n",
            "Get:23 http://archive.ubuntu.com/ubuntu bionic-updates/universe amd64 Packages [2,202 kB]\n",
            "Get:24 http://archive.ubuntu.com/ubuntu bionic-updates/main amd64 Packages [2,755 kB]\n",
            "Get:25 http://ppa.launchpad.net/deadsnakes/ppa/ubuntu bionic/main amd64 Packages [40.8 kB]\n",
            "Fetched 13.6 MB in 4s (3,797 kB/s)\n",
            "Reading package lists... Done\n",
            "Reading package lists... Done\n",
            "Building dependency tree       \n",
            "Reading state information... Done\n",
            "The following additional packages will be installed:\n",
            "  chromium-browser chromium-browser-l10n chromium-codecs-ffmpeg-extra\n",
            "Suggested packages:\n",
            "  webaccounts-chromium-extension unity-chromium-extension\n",
            "The following NEW packages will be installed:\n",
            "  chromium-browser chromium-browser-l10n chromium-chromedriver\n",
            "  chromium-codecs-ffmpeg-extra\n",
            "0 upgraded, 4 newly installed, 0 to remove and 70 not upgraded.\n",
            "Need to get 91.8 MB of archives.\n",
            "After this operation, 315 MB of additional disk space will be used.\n",
            "Get:1 http://archive.ubuntu.com/ubuntu bionic-updates/universe amd64 chromium-codecs-ffmpeg-extra amd64 92.0.4515.159-0ubuntu0.18.04.1 [1,124 kB]\n",
            "Get:2 http://archive.ubuntu.com/ubuntu bionic-updates/universe amd64 chromium-browser amd64 92.0.4515.159-0ubuntu0.18.04.1 [81.7 MB]\n",
            "Get:3 http://archive.ubuntu.com/ubuntu bionic-updates/universe amd64 chromium-browser-l10n all 92.0.4515.159-0ubuntu0.18.04.1 [4,026 kB]\n",
            "Get:4 http://archive.ubuntu.com/ubuntu bionic-updates/universe amd64 chromium-chromedriver amd64 92.0.4515.159-0ubuntu0.18.04.1 [4,902 kB]\n",
            "Fetched 91.8 MB in 5s (20.1 MB/s)\n",
            "Selecting previously unselected package chromium-codecs-ffmpeg-extra.\n",
            "(Reading database ... 148492 files and directories currently installed.)\n",
            "Preparing to unpack .../chromium-codecs-ffmpeg-extra_92.0.4515.159-0ubuntu0.18.04.1_amd64.deb ...\n",
            "Unpacking chromium-codecs-ffmpeg-extra (92.0.4515.159-0ubuntu0.18.04.1) ...\n",
            "Selecting previously unselected package chromium-browser.\n",
            "Preparing to unpack .../chromium-browser_92.0.4515.159-0ubuntu0.18.04.1_amd64.deb ...\n",
            "Unpacking chromium-browser (92.0.4515.159-0ubuntu0.18.04.1) ...\n",
            "Selecting previously unselected package chromium-browser-l10n.\n",
            "Preparing to unpack .../chromium-browser-l10n_92.0.4515.159-0ubuntu0.18.04.1_all.deb ...\n",
            "Unpacking chromium-browser-l10n (92.0.4515.159-0ubuntu0.18.04.1) ...\n",
            "Selecting previously unselected package chromium-chromedriver.\n",
            "Preparing to unpack .../chromium-chromedriver_92.0.4515.159-0ubuntu0.18.04.1_amd64.deb ...\n",
            "Unpacking chromium-chromedriver (92.0.4515.159-0ubuntu0.18.04.1) ...\n",
            "Setting up chromium-codecs-ffmpeg-extra (92.0.4515.159-0ubuntu0.18.04.1) ...\n",
            "Setting up chromium-browser (92.0.4515.159-0ubuntu0.18.04.1) ...\n",
            "update-alternatives: using /usr/bin/chromium-browser to provide /usr/bin/x-www-browser (x-www-browser) in auto mode\n",
            "update-alternatives: using /usr/bin/chromium-browser to provide /usr/bin/gnome-www-browser (gnome-www-browser) in auto mode\n",
            "Setting up chromium-chromedriver (92.0.4515.159-0ubuntu0.18.04.1) ...\n",
            "Setting up chromium-browser-l10n (92.0.4515.159-0ubuntu0.18.04.1) ...\n",
            "Processing triggers for man-db (2.8.3-2ubuntu0.1) ...\n",
            "Processing triggers for hicolor-icon-theme (0.17-2) ...\n",
            "Processing triggers for mime-support (3.60ubuntu1) ...\n",
            "Processing triggers for libc-bin (2.27-3ubuntu1.2) ...\n",
            "/sbin/ldconfig.real: /usr/local/lib/python3.7/dist-packages/ideep4py/lib/libmkldnn.so.0 is not a symbolic link\n",
            "\n",
            "cp: '/usr/lib/chromium-browser/chromedriver' and '/usr/bin/chromedriver' are the same file\n"
          ]
        }
      ]
    },
    {
      "cell_type": "markdown",
      "metadata": {
        "id": "1tEYXbAaKUwW"
      },
      "source": [
        "##Execution of the Web-Crawler\n"
      ]
    },
    {
      "cell_type": "markdown",
      "metadata": {
        "id": "311ZhYl59xpX"
      },
      "source": [
        "<img height=\"300px\" src= \"https://drive.google.com/uc?export=view&id=1e_5kdZ2uHqqG1jLTifzYh3hU8gY8ipt4\">\n",
        "\n",
        "\n",
        "For the document collection of our QA-system we used the modified Webcrawler [8]. We used two different versions of the webcrawler.\n",
        "The first one crawls starting pages, in this case Coinmarketcap [10] and the support of Blockchain [11] to recieve additionally all the articles linked from the starting pages.\n",
        "The Wikipedia cryptocurrency website [12] included a huge collection of hyperlinks. Among those only a few articles were relevant for our QA-system.\n",
        "Therefore we used a second crawler to crawl a collection of the relevant Wikipedia articles as starting pages without further crawling.\n",
        "\n",
        "While crawling the Websites, the crawler also saved all the URLs to be able to reload the websites' data without the need to crawl the websites again.\n",
        "\n",
        "The crawler returns the crawled texts as a dictonary.\n",
        "\n",
        "\n",
        "\n",
        "\n"
      ]
    },
    {
      "cell_type": "code",
      "metadata": {
        "id": "j2raOlgYKXwU",
        "colab": {
          "base_uri": "https://localhost:8080/"
        },
        "outputId": "b8390c76-17da-4c18-86c1-f0f197eb2f5d"
      },
      "source": [
        "crawler = Crawler(output_dir=\"crawled_files\")\n",
        "docs = crawler.crawl(urls=[\"https://coinmarketcap.com/coins/\", \"https://support.blockchain.com/hc/en-us/categories/201149143-Cryptocurrency-FAQs\"],\n",
        "                     overwrite_existing_files= True,\n",
        "                     crawler_depth= 1,\n",
        "                     output_dir=\"crawled_files\",\n",
        "                     filter_urls= [\"currencies\", \"support\\.blockchain\"])\n",
        "\n",
        "singleDocs = crawler.crawl(urls=[\"https://en.wikipedia.org/wiki/Cryptocurrency\",\n",
        "                                 \"https://en.wikipedia.org/wiki/Strong_cryptography\", \n",
        "                                 \"https://en.wikipedia.org/wiki/Decentralization\",\n",
        "                                 \"https://en.wikipedia.org/wiki/Central_bank_digital_currency\",\n",
        "                                 \"https://en.wikipedia.org/wiki/Distributed_ledger\",\n",
        "                                 \"https://en.wikipedia.org/wiki/Blockchain\",\n",
        "                                 \"https://en.wikipedia.org/wiki/Proof_of_work\",\n",
        "                                 \"https://en.wikipedia.org/wiki/Proof_of_stake\",\n",
        "                                 \"https://en.wikipedia.org/wiki/Decentralized_application\",\n",
        "                                 \"https://en.wikipedia.org/wiki/Smart_contract\",\n",
        "                                 \"https://en.wikipedia.org/wiki/Fungibility\",\n",
        "                                 \"https://en.wikipedia.org/wiki/Non-fungible_token\",\n",
        "                                 \"https://en.wikipedia.org/wiki/Satoshi_Nakamoto\",\n",
        "                                 \"https://en.wikipedia.org/wiki/Bitcoin_network#Mining\",\n",
        "                                 \"https://en.wikipedia.org/wiki/Peer-to-peer\",\n",
        "                                 \"https://en.wikipedia.org/wiki/Cryptocurrency_wallet\",\n",
        "                                 \"https://en.wikipedia.org/wiki/Public-key_cryptography\",\n",
        "                                 \"https://en.wikipedia.org/wiki/Cryptocurrency_exchange\",\n",
        "                                 \"https://en.wikipedia.org/wiki/Binance\"],\n",
        "                     overwrite_existing_files= True,\n",
        "                     crawler_depth= 0,\n",
        "                     output_dir=\"crawled_files\")\n",
        "\n",
        "alreadyUpdated = True\n",
        "docs.extend(singleDocs)"
      ],
      "execution_count": null,
      "outputs": [
        {
          "metadata": {
            "tags": null
          },
          "name": "stderr",
          "output_type": "stream",
          "text": [
            "09/12/2021 16:13:47 - INFO - __main__ -   writing contents from `https://coinmarketcap.com/currencies/nervos-network/`\n",
            "09/12/2021 16:13:49 - INFO - __main__ -   writing contents from `https://coinmarketcap.com/currencies/solana/`\n",
            "09/12/2021 16:13:50 - INFO - __main__ -   writing contents from `https://coinmarketcap.com/currencies/avalanche/markets/`\n",
            "09/12/2021 16:13:52 - INFO - __main__ -   writing contents from `https://coinmarketcap.com/currencies/bitcoin-cash-abc-2/`\n",
            "09/12/2021 16:13:54 - INFO - __main__ -   writing contents from `https://coinmarketcap.com/currencies/cardano/`\n",
            "09/12/2021 16:13:55 - INFO - __main__ -   writing contents from `https://coinmarketcap.com/currencies/verge/`\n",
            "09/12/2021 16:13:57 - INFO - __main__ -   writing contents from `https://coinmarketcap.com/currencies/sapphire/`\n",
            "09/12/2021 16:13:58 - INFO - __main__ -   writing contents from `https://coinmarketcap.com/currencies/celo/`\n",
            "09/12/2021 16:14:00 - INFO - __main__ -   writing contents from `https://coinmarketcap.com/currencies/zcash/`\n",
            "09/12/2021 16:14:01 - INFO - __main__ -   writing contents from `https://coinmarketcap.com/currencies/iostoken/`\n",
            "09/12/2021 16:14:03 - INFO - __main__ -   writing contents from `https://coinmarketcap.com/currencies/tomochain/`\n",
            "09/12/2021 16:14:04 - INFO - __main__ -   writing contents from `https://coinmarketcap.com/currencies/glimpse/airdrop/`\n",
            "09/12/2021 16:14:05 - INFO - __main__ -   writing contents from `https://coinmarketcap.com/currencies/constellation/`\n",
            "09/12/2021 16:14:07 - INFO - __main__ -   writing contents from `https://coinmarketcap.com/currencies/bitcoin-sv/`\n",
            "09/12/2021 16:14:09 - INFO - __main__ -   writing contents from `https://coinmarketcap.com/currencies/tezos/`\n",
            "09/12/2021 16:14:10 - INFO - __main__ -   writing contents from `https://coinmarketcap.com/currencies/decred/`\n",
            "09/12/2021 16:14:12 - INFO - __main__ -   writing contents from `https://coinmarketcap.com/currencies/iota/`\n",
            "09/12/2021 16:14:13 - INFO - __main__ -   writing contents from `https://coinmarketcap.com/currencies/terra-luna/markets/`\n",
            "09/12/2021 16:14:15 - INFO - __main__ -   writing contents from `https://coinmarketcap.com/currencies/ecash/`\n",
            "09/12/2021 16:14:17 - INFO - __main__ -   writing contents from `https://coinmarketcap.com/currencies/theta/`\n",
            "09/12/2021 16:14:18 - INFO - __main__ -   writing contents from `https://coinmarketcap.com/currencies/ontology/`\n",
            "09/12/2021 16:14:20 - INFO - __main__ -   writing contents from `https://coinmarketcap.com/currencies/arweave/`\n",
            "09/12/2021 16:14:21 - INFO - __main__ -   writing contents from `https://coinmarketcap.com/currencies/polygon/`\n",
            "09/12/2021 16:14:23 - INFO - __main__ -   writing contents from `https://coinmarketcap.com/currencies/akash-network/`\n",
            "09/12/2021 16:14:24 - INFO - __main__ -   writing contents from `https://coinmarketcap.com/currencies/hedera-hashgraph/`\n",
            "09/12/2021 16:14:26 - INFO - __main__ -   writing contents from `https://coinmarketcap.com/currencies/wanchain/`\n",
            "09/12/2021 16:14:27 - INFO - __main__ -   writing contents from `https://coinmarketcap.com/currencies/eos/`\n",
            "09/12/2021 16:14:29 - INFO - __main__ -   writing contents from `https://coinmarketcap.com/currencies/harmony/`\n",
            "09/12/2021 16:14:30 - INFO - __main__ -   writing contents from `https://coinmarketcap.com/currencies/terra-luna/`\n",
            "09/12/2021 16:14:32 - INFO - __main__ -   writing contents from `https://coinmarketcap.com/currencies/medibloc/`\n",
            "09/12/2021 16:14:33 - INFO - __main__ -   writing contents from `https://coinmarketcap.com/currencies/kadena/`\n",
            "09/12/2021 16:14:35 - INFO - __main__ -   writing contents from `https://coinmarketcap.com/currencies/icon/`\n",
            "09/12/2021 16:14:36 - INFO - __main__ -   writing contents from `https://coinmarketcap.com/currencies/radicle/`\n",
            "09/12/2021 16:14:38 - INFO - __main__ -   writing contents from `https://coinmarketcap.com/currencies/waves/`\n",
            "09/12/2021 16:14:39 - INFO - __main__ -   writing contents from `https://coinmarketcap.com/currencies/steem/`\n",
            "09/12/2021 16:14:41 - INFO - __main__ -   writing contents from `https://coinmarketcap.com/currencies/binance-coin/`\n",
            "09/12/2021 16:14:42 - INFO - __main__ -   writing contents from `https://coinmarketcap.com/currencies/ardor/`\n",
            "09/12/2021 16:14:44 - INFO - __main__ -   writing contents from `https://coinmarketcap.com/sitemap/cryptocurrencies/`\n",
            "09/12/2021 16:14:46 - INFO - __main__ -   writing contents from `https://coinmarketcap.com/currencies/solana/?period=7d`\n",
            "09/12/2021 16:14:47 - INFO - __main__ -   writing contents from `https://coinmarketcap.com/currencies/serum/`\n",
            "09/12/2021 16:14:49 - INFO - __main__ -   writing contents from `https://coinmarketcap.com/currencies/dash/`\n",
            "09/12/2021 16:14:51 - INFO - __main__ -   writing contents from `https://coinmarketcap.com/currencies/nem/`\n",
            "09/12/2021 16:14:53 - INFO - __main__ -   writing contents from `https://coinmarketcap.com/currencies/wax/`\n",
            "09/12/2021 16:14:54 - INFO - __main__ -   writing contents from `https://coinmarketcap.com/currencies/ark/`\n",
            "09/12/2021 16:14:56 - INFO - __main__ -   writing contents from `https://coinmarketcap.com/currencies/bitcoin/markets/`\n",
            "09/12/2021 16:14:57 - INFO - __main__ -   writing contents from `https://coinmarketcap.com/currencies/phala-network/`\n",
            "09/12/2021 16:14:59 - INFO - __main__ -   writing contents from `https://coinmarketcap.com/currencies/creditcoin/`\n",
            "09/12/2021 16:15:01 - INFO - __main__ -   writing contents from `https://coinmarketcap.com/currencies/elrond-egld/`\n",
            "09/12/2021 16:15:03 - INFO - __main__ -   writing contents from `https://coinmarketcap.com/currencies/lisk/`\n",
            "09/12/2021 16:15:04 - INFO - __main__ -   writing contents from `https://coinmarketcap.com/currencies/ergo/`\n",
            "09/12/2021 16:15:05 - INFO - __main__ -   writing contents from `https://coinmarketcap.com/currencies/near-protocol/`\n",
            "09/12/2021 16:15:07 - INFO - __main__ -   writing contents from `https://coinmarketcap.com/currencies/fantom/`\n",
            "09/12/2021 16:15:08 - INFO - __main__ -   writing contents from `https://coinmarketcap.com/currencies/solana/markets/`\n",
            "09/12/2021 16:15:10 - INFO - __main__ -   writing contents from `https://coinmarketcap.com/currencies/energy-web-token/`\n",
            "09/12/2021 16:15:12 - INFO - __main__ -   writing contents from `https://coinmarketcap.com/currencies/algorand/`\n",
            "09/12/2021 16:15:13 - INFO - __main__ -   writing contents from `https://coinmarketcap.com/currencies/neo/`\n",
            "09/12/2021 16:15:15 - INFO - __main__ -   writing contents from `https://coinmarketcap.com/currencies/syscoin/`\n",
            "09/12/2021 16:15:16 - INFO - __main__ -   writing contents from `https://coinmarketcap.com/currencies/coti/`\n",
            "09/12/2021 16:15:18 - INFO - __main__ -   writing contents from `https://coinmarketcap.com/currencies/polkadot-new/markets/`\n",
            "09/12/2021 16:15:19 - INFO - __main__ -   writing contents from `https://coinmarketcap.com/currencies/bitcoin/?period=7d`\n",
            "09/12/2021 16:15:21 - INFO - __main__ -   writing contents from `https://coinmarketcap.com/currencies/mina/`\n",
            "09/12/2021 16:15:23 - INFO - __main__ -   writing contents from `https://coinmarketcap.com/currencies/casper/`\n",
            "09/12/2021 16:15:24 - INFO - __main__ -   writing contents from `https://coinmarketcap.com/currencies/stellar/`\n",
            "09/12/2021 16:15:26 - INFO - __main__ -   writing contents from `https://coinmarketcap.com/currencies/nkn/`\n",
            "09/12/2021 16:15:27 - INFO - __main__ -   writing contents from `https://coinmarketcap.com/currencies/qtum/`\n",
            "09/12/2021 16:15:29 - INFO - __main__ -   writing contents from `https://coinmarketcap.com/currencies/iotex/`\n",
            "09/12/2021 16:15:30 - INFO - __main__ -   writing contents from `https://coinmarketcap.com/currencies/xrp/`\n",
            "09/12/2021 16:15:32 - INFO - __main__ -   writing contents from `https://coinmarketcap.com/currencies/ethereum/`\n",
            "09/12/2021 16:15:33 - INFO - __main__ -   writing contents from `https://coinmarketcap.com/currencies/flow/`\n",
            "09/12/2021 16:15:35 - INFO - __main__ -   writing contents from `https://coinmarketcap.com/currencies/binance-coin/markets/`\n",
            "09/12/2021 16:15:36 - INFO - __main__ -   writing contents from `https://coinmarketcap.com/currencies/bitcoin-diamond/`\n",
            "09/12/2021 16:15:38 - INFO - __main__ -   writing contents from `https://coinmarketcap.com/currencies/defichain/`\n",
            "09/12/2021 16:15:39 - INFO - __main__ -   writing contents from `https://coinmarketcap.com/currencies/polkadot-new/`\n",
            "09/12/2021 16:15:41 - INFO - __main__ -   writing contents from `https://coinmarketcap.com/currencies/oasis-network/`\n",
            "09/12/2021 16:15:42 - INFO - __main__ -   writing contents from `https://coinmarketcap.com/currencies/litecoin/`\n",
            "09/12/2021 16:15:44 - INFO - __main__ -   writing contents from `https://coinmarketcap.com/currencies/chia-network/`\n",
            "09/12/2021 16:15:45 - INFO - __main__ -   writing contents from `https://coinmarketcap.com/currencies/xinfin/`\n",
            "09/12/2021 16:15:47 - INFO - __main__ -   writing contents from `https://coinmarketcap.com/currencies/vechain/`\n",
            "09/12/2021 16:15:48 - INFO - __main__ -   writing contents from `https://coinmarketcap.com/currencies/internet-computer/`\n",
            "09/12/2021 16:15:50 - INFO - __main__ -   writing contents from `https://coinmarketcap.com/currencies/stratis/`\n",
            "09/12/2021 16:15:51 - INFO - __main__ -   writing contents from `https://coinmarketcap.com/currencies/telos/`\n",
            "09/12/2021 16:15:53 - INFO - __main__ -   writing contents from `https://coinmarketcap.com/currencies/helium/`\n",
            "09/12/2021 16:15:54 - INFO - __main__ -   writing contents from `https://coinmarketcap.com/currencies/bitcoin-gold/`\n",
            "09/12/2021 16:15:56 - INFO - __main__ -   writing contents from `https://coinmarketcap.com/currencies/ethereum/?period=7d`\n",
            "09/12/2021 16:15:58 - INFO - __main__ -   writing contents from `https://coinmarketcap.com/currencies/bitcoin-cash/`\n",
            "09/12/2021 16:15:59 - INFO - __main__ -   writing contents from `https://coinmarketcap.com/currencies/zilliqa/`\n",
            "09/12/2021 16:16:01 - INFO - __main__ -   writing contents from `https://coinmarketcap.com/currencies/ethereum/markets/`\n",
            "09/12/2021 16:16:02 - INFO - __main__ -   writing contents from `https://coinmarketcap.com/currencies/whitecoin/`\n",
            "09/12/2021 16:16:04 - INFO - __main__ -   writing contents from `https://coinmarketcap.com/currencies/klaytn/`\n",
            "09/12/2021 16:16:06 - INFO - __main__ -   writing contents from `https://coinmarketcap.com/currencies/bitcoin/`\n",
            "09/12/2021 16:16:07 - INFO - __main__ -   writing contents from `https://coinmarketcap.com/currencies/tron/`\n",
            "09/12/2021 16:16:08 - INFO - __main__ -   writing contents from `https://coinmarketcap.com/currencies/kusama/`\n",
            "09/12/2021 16:16:10 - INFO - __main__ -   writing contents from `https://coinmarketcap.com/currencies/stacks/`\n",
            "09/12/2021 16:16:11 - INFO - __main__ -   writing contents from `https://coinmarketcap.com/currencies/horizen/`\n",
            "09/12/2021 16:16:13 - INFO - __main__ -   writing contents from `https://coinmarketcap.com/currencies/binance-coin/?period=7d`\n",
            "09/12/2021 16:16:14 - INFO - __main__ -   writing contents from `https://coinmarketcap.com/currencies/terra-luna/?period=7d`\n",
            "09/12/2021 16:16:16 - INFO - __main__ -   writing contents from `https://coinmarketcap.com/currencies/xrp/markets/`\n",
            "09/12/2021 16:16:18 - INFO - __main__ -   writing contents from `https://coinmarketcap.com/currencies/dogecoin/`\n",
            "09/12/2021 16:16:20 - INFO - __main__ -   writing contents from `https://coinmarketcap.com/currencies/xrp/?period=7d`\n",
            "09/12/2021 16:16:21 - INFO - __main__ -   writing contents from `https://coinmarketcap.com/currencies/dogecoin/?period=7d`\n",
            "09/12/2021 16:16:23 - INFO - __main__ -   writing contents from `https://coinmarketcap.com/currencies/cardano/markets/`\n",
            "09/12/2021 16:16:25 - INFO - __main__ -   writing contents from `https://coinmarketcap.com/currencies/monero/`\n",
            "09/12/2021 16:16:27 - INFO - __main__ -   writing contents from `https://coinmarketcap.com/currencies/symbol/`\n",
            "09/12/2021 16:16:28 - INFO - __main__ -   writing contents from `https://coinmarketcap.com/currencies/electroneum/`\n",
            "09/12/2021 16:16:30 - INFO - __main__ -   writing contents from `https://coinmarketcap.com/currencies/dogecoin/markets/`\n",
            "09/12/2021 16:16:32 - INFO - __main__ -   writing contents from `https://coinmarketcap.com/currencies/nano/`\n",
            "09/12/2021 16:16:34 - INFO - __main__ -   writing contents from `https://coinmarketcap.com/currencies/cosmos/`\n",
            "09/12/2021 16:16:35 - INFO - __main__ -   writing contents from `https://coinmarketcap.com/currencies/filecoin/`\n",
            "09/12/2021 16:16:37 - INFO - __main__ -   writing contents from `https://coinmarketcap.com/currencies/avalanche/?period=7d`\n",
            "09/12/2021 16:16:38 - INFO - __main__ -   writing contents from `https://coinmarketcap.com/currencies/counos-x/`\n",
            "09/12/2021 16:16:40 - INFO - __main__ -   writing contents from `https://coinmarketcap.com/currencies/ravencoin/`\n",
            "09/12/2021 16:16:42 - INFO - __main__ -   writing contents from `https://coinmarketcap.com/currencies/polkadot-new/?period=7d`\n",
            "09/12/2021 16:16:43 - INFO - __main__ -   writing contents from `https://coinmarketcap.com/currencies/velas/`\n",
            "09/12/2021 16:16:45 - INFO - __main__ -   writing contents from `https://coinmarketcap.com/currencies/digibyte/`\n",
            "09/12/2021 16:16:46 - INFO - __main__ -   writing contents from `https://coinmarketcap.com/currencies/terrausd/`\n",
            "09/12/2021 16:16:48 - INFO - __main__ -   writing contents from `https://coinmarketcap.com/currencies/avalanche/`\n",
            "09/12/2021 16:16:49 - INFO - __main__ -   writing contents from `https://coinmarketcap.com/currencies/theta-fuel/`\n",
            "09/12/2021 16:16:50 - INFO - __main__ -   writing contents from `https://coinmarketcap.com/currencies/pirate-chain/`\n",
            "09/12/2021 16:16:52 - INFO - __main__ -   writing contents from `https://coinmarketcap.com/currencies/hive-blockchain/`\n",
            "09/12/2021 16:16:54 - INFO - __main__ -   writing contents from `https://coinmarketcap.com/currencies/cardano/?period=7d`\n",
            "09/12/2021 16:16:55 - INFO - __main__ -   writing contents from `https://coinmarketcap.com/currencies/ethereum-classic/`\n",
            "09/12/2021 16:16:58 - INFO - __main__ -   writing contents from `https://coinmarketcap.com/currencies/siacoin/`\n",
            "09/12/2021 16:16:59 - INFO - __main__ -   writing contents from `https://support.blockchain.com/hc/en-us/articles/360000951966-Public-and-private-keys`\n",
            "09/12/2021 16:17:00 - INFO - __main__ -   writing contents from `https://support.blockchain.com/hc/en-us/articles/360000939843-Understanding-the-xPub-and-address-generation`\n",
            "09/12/2021 16:17:01 - INFO - __main__ -   writing contents from `https://support.blockchain.com/hc/en-us/articles/115001345946-Your-Wallet-Its-Master-Seed`\n",
            "09/12/2021 16:17:02 - INFO - __main__ -   writing contents from `https://support.blockchain.com/hc/en-us/articles/115005864123-What-is-the-difference-between-Bitcoin-and-Bitcoin-Cash-`\n",
            "09/12/2021 16:17:02 - INFO - __main__ -   writing contents from `https://support.blockchain.com/hc/en-us/articles/360027491872-What-is-an-ERC20-token-`\n",
            "09/12/2021 16:17:03 - INFO - __main__ -   writing contents from `https://support.blockchain.com/hc/en-us/articles/115003651143--What-is-Ethereum-and-other-answers-to-basic-questions-about-the-Ethereum-network`\n",
            "09/12/2021 16:17:03 - INFO - __main__ -   writing contents from `https://support.blockchain.com/hc/en-us/articles/360019105471-Why-do-Stellar-addresses-have-a-minimum-balance-requirement-`\n",
            "09/12/2021 16:17:04 - INFO - __main__ -   writing contents from `https://support.blockchain.com/hc/en-us/articles/360019105431-Stellar-transaction-fees`\n",
            "09/12/2021 16:17:04 - INFO - __main__ -   writing contents from `https://support.blockchain.com/hc/en-us/articles/115003678926-How-do-I-know-a-transaction-has-been-successfully-received-sent-`\n",
            "09/12/2021 16:17:05 - INFO - __main__ -   writing contents from `https://support.blockchain.com/hc/en-us/articles/115005882786-What-is-Bitcoin-Cash-`\n",
            "09/12/2021 16:17:05 - INFO - __main__ -   writing contents from `https://support.blockchain.com/hc/en-us/articles/360040778351-Can-I-still-receive-USD-Digital-into-my-Blockchain-com-Wallet-`\n",
            "09/12/2021 16:17:06 - INFO - __main__ -   writing contents from `https://support.blockchain.com/hc/en-us/articles/360027491732-What-is-Paxos-Standard-previously-USD-Digital-`\n",
            "09/12/2021 16:17:06 - INFO - __main__ -   writing contents from `https://support.blockchain.com/hc/en-us/sections/360009490991-Algorand-FAQ`\n",
            "09/12/2021 16:17:07 - INFO - __main__ -   writing contents from `https://support.blockchain.com/hc/en-us/articles/115005883486-Is-my-bitcoin-cash-backed-up-by-my-recovery-phrase-`\n",
            "09/12/2021 16:17:07 - INFO - __main__ -   writing contents from `https://support.blockchain.com/hc/en-us/articles/360045226412-What-can-I-do-with-ALGO-`\n",
            "09/12/2021 16:17:08 - INFO - __main__ -   writing contents from `https://support.blockchain.com/hc/en-us/articles/211160223-What-is-blockchain-technology-`\n",
            "09/12/2021 16:17:08 - INFO - __main__ -   writing contents from `https://support.blockchain.com/hc/en-us/sections/360011250552-Wrapped-DGLD-FAQ`\n",
            "09/12/2021 16:17:09 - INFO - __main__ -   writing contents from `https://support.blockchain.com/hc/en-us`\n",
            "09/12/2021 16:17:09 - INFO - __main__ -   writing contents from `https://support.blockchain.com/hc/en-us/articles/360018083772-Rejected-Transactions`\n",
            "09/12/2021 16:17:10 - INFO - __main__ -   writing contents from `https://support.blockchain.com/hc/en-us/articles/360052952171-What-is-wrapped-DGLD-wDGLD-`\n",
            "09/12/2021 16:17:10 - INFO - __main__ -   writing contents from `https://support.blockchain.com/hc/en-us/sections/115001633403-Bitcoin-Cash-FAQ`\n",
            "09/12/2021 16:17:11 - INFO - __main__ -   writing contents from `https://support.blockchain.com/hc/en-us/articles/360052984751-Why-do-I-need-ETH-to-send-wDGLD-`\n",
            "09/12/2021 16:17:11 - INFO - __main__ -   writing contents from `https://support.blockchain.com/hc/en-us/articles/211160663-How-can-I-look-up-a-transaction-on-the-blockchain-`\n",
            "09/12/2021 16:17:12 - INFO - __main__ -   writing contents from `https://support.blockchain.com/hc/en-us/signin?return_to=https%3A%2F%2Fsupport.blockchain.com%2Fhc%2Fen-us%2Fcategories%2F201149143-Cryptocurrency-FAQs&locale=en-us`\n",
            "09/12/2021 16:17:13 - INFO - __main__ -   writing contents from `https://support.blockchain.com/hc/en-us/articles/360019106091-Stellar-glossary`\n",
            "09/12/2021 16:17:13 - INFO - __main__ -   writing contents from `https://support.blockchain.com/hc/en-us/articles/360000939883-Explaining-bitcoin-transaction-fees`\n",
            "09/12/2021 16:17:14 - INFO - __main__ -   writing contents from `https://support.blockchain.com/hc/en-us/articles/211122603-What-is-Bitcoin-`\n",
            "09/12/2021 16:17:15 - INFO - __main__ -   writing contents from `https://support.blockchain.com/hc/en-us/articles/360027772571-What-is-gas-`\n",
            "09/12/2021 16:17:15 - INFO - __main__ -   writing contents from `https://support.blockchain.com/hc/en-us/articles/360052540531-Bitcoin-Cash-BCH-Hard-Fork-on-15-November-2020`\n",
            "09/12/2021 16:17:15 - INFO - __main__ -   writing contents from `https://support.blockchain.com/hc/en-us/sections/202097826-Bitcoin-FAQ`\n",
            "09/12/2021 16:17:16 - INFO - __main__ -   writing contents from `https://support.blockchain.com/hc/en-us/articles/115003652583-How-do-I-backup-my-ether-wallet-Is-my-ether-backed-up-with-my-bitcoin-Do-I-need-to-do-any-other-backup-security-steps-`\n",
            "09/12/2021 16:17:16 - INFO - __main__ -   writing contents from `https://support.blockchain.com/hc/en-us/articles/115003678966-What-are-the-fees-for-sending-ether-`\n",
            "09/12/2021 16:17:17 - INFO - __main__ -   writing contents from `https://support.blockchain.com/hc/en-us/sections/360009309252-Tether-FAQ`\n",
            "09/12/2021 16:17:17 - INFO - __main__ -   writing contents from `https://support.blockchain.com/hc/en-us/articles/360044952032-What-is-Tether-USDT-`\n",
            "09/12/2021 16:17:18 - INFO - __main__ -   writing contents from `https://support.blockchain.com/hc/en-us/articles/360000093403-Why-do-Bitcoin-Cash-addresses-look-different-from-Bitcoin-addresses-`\n",
            "09/12/2021 16:17:18 - INFO - __main__ -   writing contents from `https://support.blockchain.com/hc/en-us/sections/360002713772-Stellar-FAQ`\n",
            "09/12/2021 16:17:19 - INFO - __main__ -   writing contents from `https://support.blockchain.com/hc/en-us/articles/360045226292-What-is-Algorand-`\n",
            "09/12/2021 16:17:19 - INFO - __main__ -   writing contents from `https://support.blockchain.com/hc/en-us/articles/211159143-Who-created-Bitcoin-`\n",
            "09/12/2021 16:17:20 - INFO - __main__ -   writing contents from `https://support.blockchain.com/hc/en-us/articles/360027492092-Why-do-I-need-ETH-to-send-Paxos-Standard-previously-USD-Digital-`\n",
            "09/12/2021 16:17:21 - INFO - __main__ -   writing contents from `https://support.blockchain.com/hc/en-us/sections/360004368351-Paxos-Standard-previously-USD-Digital-FAQ`\n",
            "09/12/2021 16:17:21 - INFO - __main__ -   writing contents from `https://support.blockchain.com/hc/en-us/articles/360040777891-USD-Digital-is-now-Paxos-Standard`\n",
            "09/12/2021 16:17:22 - INFO - __main__ -   writing contents from `https://support.blockchain.com/hc/change_language/ru?return_to=%2Fhc%2Fru%2Fcategories%2F201149143-%25D0%259E%25D0%25B1%25D1%2589%25D0%25B0%25D1%258F-%25D0%25B8%25D0%25BD%25D1%2584%25D0%25BE%25D1%2580%25D0%25BC%25D0%25B0%25D1%2586%25D0%25B8%25D1%258F`\n",
            "09/12/2021 16:17:22 - INFO - __main__ -   writing contents from `https://support.blockchain.com/hc/en-us/sections/360000175543-General-Cryptocurrency-FAQ`\n",
            "09/12/2021 16:17:23 - INFO - __main__ -   writing contents from `https://support.blockchain.com/hc/en-us/articles/360019105171-What-is-Stellar-`\n",
            "09/12/2021 16:17:23 - INFO - __main__ -   writing contents from `https://support.blockchain.com/hc/en-us/articles/360027772771-Is-my-Paxos-Standard-previously-USD-Digital-balance-backed-up-by-my-backup-phrase-`\n",
            "09/12/2021 16:17:23 - INFO - __main__ -   writing contents from `https://support.blockchain.com/hc/en-us/articles/360000939903-Transaction-fees`\n",
            "09/12/2021 16:17:24 - INFO - __main__ -   writing contents from `https://support.blockchain.com/hc/en-us/articles/360040028192-Anatomy-of-a-Bitcoin-Transaction`\n",
            "09/12/2021 16:17:25 - INFO - __main__ -   writing contents from `https://support.blockchain.com/hc/en-us/articles/360019105391-Stellar-consensus`\n",
            "09/12/2021 16:17:25 - INFO - __main__ -   writing contents from `https://support.blockchain.com/hc/en-us/sections/360000003163-Ethereum-FAQ`\n",
            "09/12/2021 16:17:26 - INFO - __main__ -   writing contents from `https://support.blockchain.com/hc/en-us/articles/360045724832-Why-do-I-need-ETH-to-send-USDT-`\n",
            "09/12/2021 16:17:26 - INFO - __main__ -   writing contents from `https://support.blockchain.com/hc/en-us/articles/213276463-Bitcoin-Glossary`\n",
            "09/12/2021 16:17:27 - INFO - __main__ -   writing contents from `https://support.blockchain.com/hc/en-us/articles/115005883466-What-are-the-fees-for-sending-bitcoin-cash-`\n",
            "09/12/2021 16:17:28 - INFO - __main__ -   writing contents from `https://support.blockchain.com/hc/en-us/articles/360018796912-What-is-the-difference-between-Stellar-and-lumens-`\n",
            "09/12/2021 16:17:28 - INFO - __main__ -   writing contents from `https://support.blockchain.com/hc/en-us/categories/201149143-Cryptocurrency-FAQs`\n",
            "09/12/2021 16:17:29 - INFO - __main__ -   writing contents from `https://support.blockchain.com/hc/en-us/articles/360045724872-Can-I-receive-bitcoin-based-USDT-to-my-Blockchain-com-Wallet-`\n",
            "09/12/2021 16:17:29 - INFO - __main__ -   writing contents from `https://en.wikipedia.org/wiki/Cryptocurrency`\n",
            "09/12/2021 16:17:32 - INFO - __main__ -   writing contents from `https://en.wikipedia.org/wiki/Strong_cryptography`\n",
            "09/12/2021 16:17:32 - INFO - __main__ -   writing contents from `https://en.wikipedia.org/wiki/Decentralization`\n",
            "09/12/2021 16:17:35 - INFO - __main__ -   writing contents from `https://en.wikipedia.org/wiki/Central_bank_digital_currency`\n",
            "09/12/2021 16:17:36 - INFO - __main__ -   writing contents from `https://en.wikipedia.org/wiki/Distributed_ledger`\n",
            "09/12/2021 16:17:37 - INFO - __main__ -   writing contents from `https://en.wikipedia.org/wiki/Blockchain`\n",
            "09/12/2021 16:17:39 - INFO - __main__ -   writing contents from `https://en.wikipedia.org/wiki/Proof_of_work`\n",
            "09/12/2021 16:17:40 - INFO - __main__ -   writing contents from `https://en.wikipedia.org/wiki/Proof_of_stake`\n",
            "09/12/2021 16:17:41 - INFO - __main__ -   writing contents from `https://en.wikipedia.org/wiki/Decentralized_application`\n",
            "09/12/2021 16:17:42 - INFO - __main__ -   writing contents from `https://en.wikipedia.org/wiki/Smart_contract`\n",
            "09/12/2021 16:17:43 - INFO - __main__ -   writing contents from `https://en.wikipedia.org/wiki/Fungibility`\n",
            "09/12/2021 16:17:43 - INFO - __main__ -   writing contents from `https://en.wikipedia.org/wiki/Non-fungible_token`\n",
            "09/12/2021 16:17:44 - INFO - __main__ -   writing contents from `https://en.wikipedia.org/wiki/Satoshi_Nakamoto`\n",
            "09/12/2021 16:17:46 - INFO - __main__ -   writing contents from `https://en.wikipedia.org/wiki/Bitcoin_network#Mining`\n",
            "09/12/2021 16:17:47 - INFO - __main__ -   writing contents from `https://en.wikipedia.org/wiki/Peer-to-peer`\n",
            "09/12/2021 16:17:49 - INFO - __main__ -   writing contents from `https://en.wikipedia.org/wiki/Cryptocurrency_wallet`\n",
            "09/12/2021 16:17:50 - INFO - __main__ -   writing contents from `https://en.wikipedia.org/wiki/Public-key_cryptography`\n",
            "09/12/2021 16:17:51 - INFO - __main__ -   writing contents from `https://en.wikipedia.org/wiki/Cryptocurrency_exchange`\n",
            "09/12/2021 16:17:52 - INFO - __main__ -   writing contents from `https://en.wikipedia.org/wiki/Binance`\n"
          ]
        }
      ]
    },
    {
      "cell_type": "markdown",
      "metadata": {
        "id": "UTSiJwiB95_0"
      },
      "source": [
        "##Retriever and Pipeline"
      ]
    },
    {
      "cell_type": "markdown",
      "metadata": {
        "id": "uTNxIz2rGa_b"
      },
      "source": [
        "This function creates the Retriever and the pipeline.\n",
        "The Joined Retriever delivers the best performance for our QA-system. It uses a BM25 ElasticsearchRetriever as well as a Dense Passage Retriever and joins their results [13]. \n",
        "\n",
        "Haystack allows the customization of the pipeline by adding nodes [14].\n",
        "First the Elasticsearch Retriever and the Dense Passage Retriever were added. Following, the JoinDocument node was added to combine the results of both retrievers. As the last step the Reader was added to the pipeline. The reader generates the answers from the retrieved documents."
      ]
    },
    {
      "cell_type": "code",
      "metadata": {
        "id": "o5E-JWsTj9Am"
      },
      "source": [
        "from haystack.pipeline import Pipeline, JoinDocuments\n",
        "from haystack.retriever import DensePassageRetriever\n",
        "\n",
        "def initRetrieverAndPipeline():\n",
        "\n",
        "  es_retriever = ElasticsearchRetriever(document_store=document_store)\n",
        "  \n",
        "  dpr_retriever = DensePassageRetriever(document_store=document_store,\n",
        "                                  query_embedding_model=\"facebook/dpr-question_encoder-single-nq-base\",\n",
        "                                  passage_embedding_model=\"facebook/dpr-ctx_encoder-single-nq-base\",\n",
        "                                  max_seq_len_query=64,\n",
        "                                  max_seq_len_passage=256,\n",
        "                                  batch_size=16,\n",
        "                                  use_gpu=True,\n",
        "                                  embed_title=True,\n",
        "                                  use_fast_tokenizers=True)\n",
        "\n",
        "  #Creating the embeddings for the Dense Passage Retriever \n",
        "  document_store.update_embeddings(dpr_retriever)\n",
        "\n",
        "  p = Pipeline()\n",
        "  p.add_node(component=es_retriever, name=\"ESRetriever\", inputs=[\"Query\"])\n",
        "  p.add_node(component=dpr_retriever, name=\"DPRRetriever\", inputs=[\"Query\"])\n",
        "  p.add_node(component=JoinDocuments(join_mode=\"concatenate\"), name=\"JoinResults\", inputs=[\"ESRetriever\", \"DPRRetriever\"])\n",
        "  p.add_node(component=reader, name=\"QAReader\", inputs=[\"JoinResults\"])\n",
        "\n",
        "  return p"
      ],
      "execution_count": null,
      "outputs": []
    },
    {
      "cell_type": "markdown",
      "metadata": {
        "id": "eh3FUe2430Ip"
      },
      "source": [
        "When the Webcrawler returns the dictionary based on the documents,\n",
        "before creating the pipeline, the text from the dictionary needs to be pre-processed and saved to the document-store.\n",
        "Afterwards the Retriever and the pipeline can be created, as the retrievers require the document store."
      ]
    },
    {
      "cell_type": "code",
      "metadata": {
        "id": "nndkEd5p1vbd",
        "colab": {
          "base_uri": "https://localhost:8080/",
          "height": 676,
          "referenced_widgets": [
            "22f6727395774bd7940fd82fdb024c66",
            "869b1719ec5745928d40d1212c98c796",
            "2e9cacf7956f49028aacace291e2d18e",
            "784dd16c6f1a41839facc35577a010bc",
            "6ecac63ec95d4dada7d0ff1461caff18",
            "28388f70ce3542638b50d141aae0da15",
            "6844c8582a3742268f65c5d70f9a3acf",
            "2485246deb634dba8b4488a938a5d035",
            "60e9d0e4e2cf4b5683eedf900a6d1e61",
            "79464115eeea481487ad49fbc4fb6faa",
            "970bc35b53af437bac99eb33efb9ad15",
            "fa51bfea0a544dd6b6235b372738c3e5",
            "ec3aae9e1c164c41964e7cdcc14dd314",
            "fd0110475a664b17b11f05741231bec6",
            "ddc3d589db9147689a238c540957db13",
            "11d11d7331b24889a99287c4b4373164",
            "622533d3b0f3443e930cfd6be233a0e7",
            "71a12a232f29489d82fdeefc838b6582",
            "94e6375dab434184b6fa04fc8767ba76",
            "0fe91cb301294ea9ab722e8490cb6fe0",
            "aeae6b5ccaa341ba95898d30305ba5df",
            "91ecd1ef48ed4f5ab1da5d78af05c037",
            "0618053f884b43edb52f96260365af82",
            "f5872c126097458d97fcaa5225b10472",
            "198efccea20b4d9a8a4efc876ffb98ad",
            "acd38f4a210c4fc5a782476b60326557",
            "858f75408edd4dc5a23ef80f1afa4370",
            "9650c6200375423ea4b7a4633606841a",
            "8b18cbc9177942b8ab10c1f0d73f7adf",
            "9fe5b88211f749aaaa54c2414e592a67",
            "e70d51aff2424e988f52362b628369da",
            "a8b747f6760a40419125054c34f6f75d"
          ]
        },
        "outputId": "ccd00145-172a-49ca-da40-40d536d919ed"
      },
      "source": [
        "global pipe\n",
        "\n",
        "cleanedDicts =  preprocessDicts(docs)\n",
        "splitDicts = splitDictionaries(cleanedDicts)\n",
        "saveDataFromDictonaryToElasticseach(splitDicts)\n",
        "pipe = initRetrieverAndPipeline()"
      ],
      "execution_count": null,
      "outputs": [
        {
          "metadata": {
            "tags": null
          },
          "name": "stderr",
          "output_type": "stream",
          "text": [
            "09/12/2021 16:17:53 - INFO - elasticsearch -   POST http://localhost:9200/document/_delete_by_query [status:200 request:0.142s]\n",
            "09/12/2021 16:17:58 - INFO - elasticsearch -   POST http://localhost:9200/_bulk?refresh=wait_for [status:200 request:2.315s]\n",
            "09/12/2021 16:17:59 - INFO - elasticsearch -   POST http://localhost:9200/_bulk?refresh=wait_for [status:200 request:1.083s]\n",
            "09/12/2021 16:17:59 - INFO - filelock -   Lock 139886016796240 acquired on /root/.cache/huggingface/transformers/4ad08b5f983c1384baaf257d8edf51a7a3961fd8c75a1778ac604e3c0b564dd9.d789d64ebfe299b0e416afc4a169632f903f693095b4629a7ea271d5a0cf2c99.lock\n"
          ]
        },
        {
          "data": {
            "application/vnd.jupyter.widget-view+json": {
              "model_id": "22f6727395774bd7940fd82fdb024c66",
              "version_major": 2,
              "version_minor": 0
            },
            "text/plain": [
              "Downloading:   0%|          | 0.00/232k [00:00<?, ?B/s]"
            ]
          },
          "metadata": {},
          "output_type": "display_data"
        },
        {
          "metadata": {
            "tags": null
          },
          "name": "stderr",
          "output_type": "stream",
          "text": [
            "09/12/2021 16:17:59 - INFO - filelock -   Lock 139886016796240 released on /root/.cache/huggingface/transformers/4ad08b5f983c1384baaf257d8edf51a7a3961fd8c75a1778ac604e3c0b564dd9.d789d64ebfe299b0e416afc4a169632f903f693095b4629a7ea271d5a0cf2c99.lock\n",
            "09/12/2021 16:17:59 - INFO - filelock -   Lock 139886016796240 acquired on /root/.cache/huggingface/transformers/b305bc9085b3d0ce33551c251b75c11b6c6df1d4d51e5d3439d01cf4bb1abc9d.7f2721073f19841be16f41b0a70b600ca6b880c8f3df6f3535cbc704371bdfa4.lock\n"
          ]
        },
        {
          "data": {
            "application/vnd.jupyter.widget-view+json": {
              "model_id": "869b1719ec5745928d40d1212c98c796",
              "version_major": 2,
              "version_minor": 0
            },
            "text/plain": [
              "Downloading:   0%|          | 0.00/466k [00:00<?, ?B/s]"
            ]
          },
          "metadata": {},
          "output_type": "display_data"
        },
        {
          "metadata": {
            "tags": null
          },
          "name": "stderr",
          "output_type": "stream",
          "text": [
            "09/12/2021 16:18:00 - INFO - filelock -   Lock 139886016796240 released on /root/.cache/huggingface/transformers/b305bc9085b3d0ce33551c251b75c11b6c6df1d4d51e5d3439d01cf4bb1abc9d.7f2721073f19841be16f41b0a70b600ca6b880c8f3df6f3535cbc704371bdfa4.lock\n",
            "09/12/2021 16:18:00 - INFO - filelock -   Lock 139885964636752 acquired on /root/.cache/huggingface/transformers/d5b5f07ee846d5baa7142e121b6ee77d11ac68bd5d4541faab38a1ea76c2954a.20430bd8e10ef77a7d2977accefe796051e01bc2fc4aa146bc862997a1a15e79.lock\n"
          ]
        },
        {
          "data": {
            "application/vnd.jupyter.widget-view+json": {
              "model_id": "2e9cacf7956f49028aacace291e2d18e",
              "version_major": 2,
              "version_minor": 0
            },
            "text/plain": [
              "Downloading:   0%|          | 0.00/28.0 [00:00<?, ?B/s]"
            ]
          },
          "metadata": {},
          "output_type": "display_data"
        },
        {
          "metadata": {
            "tags": null
          },
          "name": "stderr",
          "output_type": "stream",
          "text": [
            "09/12/2021 16:18:00 - INFO - filelock -   Lock 139885964636752 released on /root/.cache/huggingface/transformers/d5b5f07ee846d5baa7142e121b6ee77d11ac68bd5d4541faab38a1ea76c2954a.20430bd8e10ef77a7d2977accefe796051e01bc2fc4aa146bc862997a1a15e79.lock\n",
            "09/12/2021 16:18:01 - INFO - filelock -   Lock 139885837104208 acquired on /root/.cache/huggingface/transformers/52774638a790c9ebc5ce11005b260f79cd4cc389abdab9eaa31e8f09d15b4f46.13b559f49587470ab6d85a7dde13174670a0b61c1b942d1489c96023f5d03772.lock\n"
          ]
        },
        {
          "data": {
            "application/vnd.jupyter.widget-view+json": {
              "model_id": "784dd16c6f1a41839facc35577a010bc",
              "version_major": 2,
              "version_minor": 0
            },
            "text/plain": [
              "Downloading:   0%|          | 0.00/493 [00:00<?, ?B/s]"
            ]
          },
          "metadata": {},
          "output_type": "display_data"
        },
        {
          "metadata": {
            "tags": null
          },
          "name": "stderr",
          "output_type": "stream",
          "text": [
            "09/12/2021 16:18:01 - INFO - filelock -   Lock 139885837104208 released on /root/.cache/huggingface/transformers/52774638a790c9ebc5ce11005b260f79cd4cc389abdab9eaa31e8f09d15b4f46.13b559f49587470ab6d85a7dde13174670a0b61c1b942d1489c96023f5d03772.lock\n",
            "09/12/2021 16:18:01 - INFO - filelock -   Lock 139885964496976 acquired on /root/.cache/huggingface/transformers/41dac75f5df9070331cb0e4bf318c9fdeaef38d9ffd8ca80993c7db830d0c674.446ee898f4788c3ee90f8e7ee5a50281905f509e698f76dc0b583eb74ef973bd.lock\n"
          ]
        },
        {
          "data": {
            "application/vnd.jupyter.widget-view+json": {
              "model_id": "6ecac63ec95d4dada7d0ff1461caff18",
              "version_major": 2,
              "version_minor": 0
            },
            "text/plain": [
              "Downloading:   0%|          | 0.00/438M [00:00<?, ?B/s]"
            ]
          },
          "metadata": {},
          "output_type": "display_data"
        },
        {
          "metadata": {
            "tags": null
          },
          "name": "stderr",
          "output_type": "stream",
          "text": [
            "09/12/2021 16:18:19 - INFO - filelock -   Lock 139885964496976 released on /root/.cache/huggingface/transformers/41dac75f5df9070331cb0e4bf318c9fdeaef38d9ffd8ca80993c7db830d0c674.446ee898f4788c3ee90f8e7ee5a50281905f509e698f76dc0b583eb74ef973bd.lock\n",
            "09/12/2021 16:18:21 - INFO - filelock -   Lock 139885837104784 acquired on /root/.cache/huggingface/transformers/deacb2c219c1bfe83909173f286b60d7cbfd37fc73dc8de723805ca82cabd183.d789d64ebfe299b0e416afc4a169632f903f693095b4629a7ea271d5a0cf2c99.lock\n"
          ]
        },
        {
          "data": {
            "application/vnd.jupyter.widget-view+json": {
              "model_id": "28388f70ce3542638b50d141aae0da15",
              "version_major": 2,
              "version_minor": 0
            },
            "text/plain": [
              "Downloading:   0%|          | 0.00/232k [00:00<?, ?B/s]"
            ]
          },
          "metadata": {},
          "output_type": "display_data"
        },
        {
          "metadata": {
            "tags": null
          },
          "name": "stderr",
          "output_type": "stream",
          "text": [
            "09/12/2021 16:18:21 - INFO - filelock -   Lock 139885837104784 released on /root/.cache/huggingface/transformers/deacb2c219c1bfe83909173f286b60d7cbfd37fc73dc8de723805ca82cabd183.d789d64ebfe299b0e416afc4a169632f903f693095b4629a7ea271d5a0cf2c99.lock\n",
            "09/12/2021 16:18:21 - INFO - filelock -   Lock 139885921651472 acquired on /root/.cache/huggingface/transformers/9a42d18175a45f8dcfd587d7056cbe397e0fe49828bcc543bc3f5b4d2862f7e5.7f2721073f19841be16f41b0a70b600ca6b880c8f3df6f3535cbc704371bdfa4.lock\n"
          ]
        },
        {
          "data": {
            "application/vnd.jupyter.widget-view+json": {
              "model_id": "6844c8582a3742268f65c5d70f9a3acf",
              "version_major": 2,
              "version_minor": 0
            },
            "text/plain": [
              "Downloading:   0%|          | 0.00/466k [00:00<?, ?B/s]"
            ]
          },
          "metadata": {},
          "output_type": "display_data"
        },
        {
          "metadata": {
            "tags": null
          },
          "name": "stderr",
          "output_type": "stream",
          "text": [
            "09/12/2021 16:18:22 - INFO - filelock -   Lock 139885921651472 released on /root/.cache/huggingface/transformers/9a42d18175a45f8dcfd587d7056cbe397e0fe49828bcc543bc3f5b4d2862f7e5.7f2721073f19841be16f41b0a70b600ca6b880c8f3df6f3535cbc704371bdfa4.lock\n",
            "09/12/2021 16:18:22 - INFO - filelock -   Lock 139885921491984 acquired on /root/.cache/huggingface/transformers/70b0d7ed89bb3511a323f99b7cfa4a3e0c35754fda6a3ac74c3458ca8ffb5764.20430bd8e10ef77a7d2977accefe796051e01bc2fc4aa146bc862997a1a15e79.lock\n"
          ]
        },
        {
          "data": {
            "application/vnd.jupyter.widget-view+json": {
              "model_id": "2485246deb634dba8b4488a938a5d035",
              "version_major": 2,
              "version_minor": 0
            },
            "text/plain": [
              "Downloading:   0%|          | 0.00/28.0 [00:00<?, ?B/s]"
            ]
          },
          "metadata": {},
          "output_type": "display_data"
        },
        {
          "metadata": {
            "tags": null
          },
          "name": "stderr",
          "output_type": "stream",
          "text": [
            "09/12/2021 16:18:22 - INFO - filelock -   Lock 139885921491984 released on /root/.cache/huggingface/transformers/70b0d7ed89bb3511a323f99b7cfa4a3e0c35754fda6a3ac74c3458ca8ffb5764.20430bd8e10ef77a7d2977accefe796051e01bc2fc4aa146bc862997a1a15e79.lock\n",
            "09/12/2021 16:18:23 - INFO - filelock -   Lock 139885921491984 acquired on /root/.cache/huggingface/transformers/f31ea67434695abc6c4fbe109214416d8b48a44f2fe5a0617e7faa3d6a4f8d05.be8dbf4cc0650b9c5997b3b3bc47d0d6c20749c3871e9285d3b624cd75dd9ee6.lock\n"
          ]
        },
        {
          "data": {
            "application/vnd.jupyter.widget-view+json": {
              "model_id": "60e9d0e4e2cf4b5683eedf900a6d1e61",
              "version_major": 2,
              "version_minor": 0
            },
            "text/plain": [
              "Downloading:   0%|          | 0.00/492 [00:00<?, ?B/s]"
            ]
          },
          "metadata": {},
          "output_type": "display_data"
        },
        {
          "metadata": {
            "tags": null
          },
          "name": "stderr",
          "output_type": "stream",
          "text": [
            "09/12/2021 16:18:23 - INFO - filelock -   Lock 139885921491984 released on /root/.cache/huggingface/transformers/f31ea67434695abc6c4fbe109214416d8b48a44f2fe5a0617e7faa3d6a4f8d05.be8dbf4cc0650b9c5997b3b3bc47d0d6c20749c3871e9285d3b624cd75dd9ee6.lock\n",
            "09/12/2021 16:18:23 - INFO - filelock -   Lock 139885921578704 acquired on /root/.cache/huggingface/transformers/2623d56adfe8cc7bf9275b0c620a0e271ee4004c335173bde56310dc8ea99d4f.714228ba33c6248205269978fd6d0ca0ef96508cbd4a11d894882e71d45fad7c.lock\n"
          ]
        },
        {
          "data": {
            "application/vnd.jupyter.widget-view+json": {
              "model_id": "79464115eeea481487ad49fbc4fb6faa",
              "version_major": 2,
              "version_minor": 0
            },
            "text/plain": [
              "Downloading:   0%|          | 0.00/438M [00:00<?, ?B/s]"
            ]
          },
          "metadata": {},
          "output_type": "display_data"
        },
        {
          "metadata": {
            "tags": null
          },
          "name": "stderr",
          "output_type": "stream",
          "text": [
            "09/12/2021 16:18:42 - INFO - filelock -   Lock 139885921578704 released on /root/.cache/huggingface/transformers/2623d56adfe8cc7bf9275b0c620a0e271ee4004c335173bde56310dc8ea99d4f.714228ba33c6248205269978fd6d0ca0ef96508cbd4a11d894882e71d45fad7c.lock\n",
            "09/12/2021 16:18:44 - INFO - elasticsearch -   POST http://localhost:9200/document/_count [status:200 request:0.023s]\n",
            "09/12/2021 16:18:44 - INFO - haystack.document_store.elasticsearch -   Updating embeddings for all 813 docs ...\n"
          ]
        },
        {
          "data": {
            "application/vnd.jupyter.widget-view+json": {
              "model_id": "970bc35b53af437bac99eb33efb9ad15",
              "version_major": 2,
              "version_minor": 0
            },
            "text/plain": [
              "Updating embeddings:   0%|          | 0/813 [00:00<?, ? Docs/s]"
            ]
          },
          "metadata": {},
          "output_type": "display_data"
        },
        {
          "output_type": "display_data",
          "data": {
            "application/vnd.jupyter.widget-view+json": {
              "model_id": "91ecd1ef48ed4f5ab1da5d78af05c037",
              "version_minor": 0,
              "version_major": 2
            },
            "text/plain": [
              "Create embeddings:   0%|          | 0/816 [00:00<?, ? Docs/s]"
            ]
          },
          "metadata": {}
        }
      ]
    },
    {
      "cell_type": "markdown",
      "metadata": {
        "id": "ZaYxNsGRTFag"
      },
      "source": [
        "#Website\n",
        "\n",
        "We created our Website with the help of Anvil [15].\n",
        "\n",
        "Open this **Website** for our QA-system Crypto-Answer:\n",
        "\n",
        "\n",
        "---\n",
        "\n",
        "https://crypto-answer-il2.anvil.app/\n",
        "\n",
        "---\n",
        "\n",
        "\n",
        "\n"
      ]
    },
    {
      "cell_type": "markdown",
      "metadata": {
        "id": "iInmyfJS45cz"
      },
      "source": [
        "The following command connects this Google Colab notebook to the anvil Server (our Website)."
      ]
    },
    {
      "cell_type": "code",
      "metadata": {
        "id": "TckK0dN6lQbu",
        "colab": {
          "base_uri": "https://localhost:8080/"
        },
        "outputId": "29a0ae17-667d-4058-db90-03af75b5bea2"
      },
      "source": [
        "anvil.server.connect(\"O75TERSQZ3NH3S32EYMX52TH-ND325CRH3U2JZ42F\")"
      ],
      "execution_count": null,
      "outputs": [
        {
          "output_type": "stream",
          "name": "stdout",
          "text": [
            "Connecting to wss://anvil.works/uplink\n",
            "Anvil websocket open\n",
            "Connected to \"Default environment (dev)\" as SERVER\n"
          ]
        }
      ]
    },
    {
      "cell_type": "markdown",
      "metadata": {
        "id": "n4juxVl39IdJ"
      },
      "source": [
        "##Update data Callable"
      ]
    },
    {
      "cell_type": "markdown",
      "metadata": {
        "id": "cMpl5LxD31cA"
      },
      "source": [
        "This is the method for updating the document-store content to real time data. When it is called, a new crawler is created, which crawls the documents from the links that were saved before as starting pages without further crawling.\n",
        "The preprocessing step as well as the saving to the Elasticsearch document-store needs to be repeated. Following, the pipeline needs to be renewed."
      ]
    },
    {
      "cell_type": "code",
      "metadata": {
        "id": "k29EMYg-K6f4"
      },
      "source": [
        "@anvil.server.callable\n",
        "def updateWebsiteData():\n",
        "    updateCrawler = Crawler(output_dir=\"updated_files\")\n",
        "    updatedDocs = crawler.crawl(urls=urlsUpdate,\n",
        "                        overwrite_existing_files= True,\n",
        "                        crawler_depth= 0,\n",
        "                        output_dir=\"updated_files\")\n",
        "    cleanedDicts =  preprocessDicts(docs)\n",
        "    splitDicts = splitDictionaries(cleanedDicts)\n",
        "    saveDataFromDictonaryToElasticseach(splitDicts)\n",
        "    pipe = initRetrieverAndPipeline()\n",
        "    return True\n",
        "\n",
        "\n",
        "#updateWebsiteData() # -> for testing in Google Colab"
      ],
      "execution_count": null,
      "outputs": []
    },
    {
      "cell_type": "markdown",
      "metadata": {
        "id": "cPyZ9rPqM5VJ"
      },
      "source": [
        "##Question Callable"
      ]
    },
    {
      "cell_type": "markdown",
      "metadata": {
        "id": "l2uUavZXCHf1"
      },
      "source": [
        "This Callablek runs the pipeline to generate the predictions for the given question.\n",
        "\n",
        "You can change the top_k_retriever(document amount) and the top_k_reader(answer amount) values. \n",
        "Higher values mean, that the prediction will be slower!"
      ]
    },
    {
      "cell_type": "code",
      "metadata": {
        "id": "tM6cfJigkL0G"
      },
      "source": [
        "@anvil.server.callable\n",
        "def prediction(question):\n",
        "  prediction = pipe.run(query=question, top_k_retriever=10, top_k_reader=4)\n",
        "  return prediction \n",
        "\n",
        "#Alternative to using : Type in your question here: # -> for testing in Google Colab\n",
        "#question = \"What is the price of bitcoin?\"\n",
        "#print_answers(prediction(question)"
      ],
      "execution_count": null,
      "outputs": []
    },
    {
      "cell_type": "markdown",
      "metadata": {
        "id": "MWoFy0WX1TMo"
      },
      "source": [
        "#Resources"
      ]
    },
    {
      "cell_type": "markdown",
      "metadata": {
        "id": "Cw5SQCrgDmPM"
      },
      "source": [
        "[1] J. Hosp.(2018).*Blockchain 2.0*.FinanzBuch Verlag,Munic.\n",
        "\n",
        "[2] CoinMarketCap.(2021).*CoinMarketCap*.[Online].Available: https://coinmarketcap.com/ (zuletzt aufgerufen am 12.09.2021)\n",
        "\n",
        "[3] Deepset-ai.(2021).*Haystack*.[Online].Available: https://github.com/deepset-ai/haystack (zuletzt aufgerufen am 12.09.2021)\n",
        "\n",
        "[4] Hugging Face.(2021).*Hugging Face*.[Online].Available: https://huggingface.co/models (zuletzt aufgerufen am 12.09.2021)\n",
        "\n",
        "[5] Deepset-ai.(2021).*Annotation Tool*.[Online].Available: https://haystack.deepset.ai/docs/latest/annotationmd (zuletzt aufgerufen am 12.09.2021)\n",
        "\n",
        "[6] Deepset-ai.(2021).*DocumentStores*.[Online].Available: https://haystack.deepset.ai/usage/document-store (zuletzt aufgerufen am 12.09.2021)\n",
        "\n",
        "[7] Deepset-ai.(2021).*Module crawler*.[Online].Available: https://haystack.deepset.ai/reference/crawler (zuletzt aufgerufen am 12.09.2021)\n",
        "\n",
        "[8] deepset-ai.(2021).*crawler.py*.[Online].Available: https://github.com/deepset-ai/haystack/blob/master/haystack/connector/crawler.py (zuletzt aufgerufen am 11.09.2021)\n",
        "\n",
        "[9] deepset-ai.(2021).*preprocessor.py*.[Online].Available: https://github.com/deepset-ai/haystack/blob/master/haystack/preprocessor/preprocessor.py (zuletzt aufgerufen 12.09.2021)\n",
        "\n",
        "[10] Coinmarketcap.(2021).*Top 100 Crypto Coins by Market capitalization*.[Online].Available: https://coinmarketcap.com/coins/ (zuletzt aufgerufen am 16.09.2021)\n",
        "\n",
        "[11] Blockchain.(2020).*Cryptocurrency FAQs*.[Online].Availabe: https://support.blockchain.com/hc/en-us/categories/201149143-Cryptocurrency-FAQs (zuletzt aufgerufen am 12.09.2021)\n",
        "\n",
        "[12] Wikipedia.(2021).*Cryptocurrency*.[Online].Available: https://en.wikipedia.org/wiki/Cryptocurrency (zuletzt aufgerufen am 12.9.2021)\n",
        "\n",
        "[13] Deepset-ai.(2021).*Pipelines Tutorial*.[Online].Availabe: https://haystack.deepset.ai/tutorials/pipelines (zuletzt aufgerufen am 14.9.2021)\n",
        "\n",
        "[14] Deepset-ai.(2021).*Module Pipeline*.[Online].Availabe: https://haystack.deepset.ai/reference/pipelines (zuletzt aufgerufen am 15.9.2021)\n",
        "\n",
        "[15] Anvil.(2020).*Tutorials*.[Online].Available: https://anvil.works/learn/tutorials (zuletzt aufgerufen am 12.9.2021)\n",
        "\n",
        "\n",
        "\n"
      ]
    }
  ]
}